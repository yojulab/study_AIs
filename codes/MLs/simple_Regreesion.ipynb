{
 "cells": [
  {
   "cell_type": "markdown",
   "id": "2d1dd0d5-c38b-448d-8bd9-d88e3e40856d",
   "metadata": {},
   "source": [
    "### 지도학습(Supervised Learing)\n",
    "- 목표변수(target, Y) 있는 학습법"
   ]
  },
  {
   "cell_type": "code",
   "execution_count": 19,
   "id": "ec54a36c-65ae-408b-80db-e821bbe559f6",
   "metadata": {},
   "outputs": [],
   "source": [
    "import pandas as pd"
   ]
  },
  {
   "cell_type": "code",
   "execution_count": 20,
   "id": "0c414116-364d-41fa-81ed-2116f7b7ca74",
   "metadata": {},
   "outputs": [
    {
     "data": {
      "text/html": [
       "<div>\n",
       "<style scoped>\n",
       "    .dataframe tbody tr th:only-of-type {\n",
       "        vertical-align: middle;\n",
       "    }\n",
       "\n",
       "    .dataframe tbody tr th {\n",
       "        vertical-align: top;\n",
       "    }\n",
       "\n",
       "    .dataframe thead th {\n",
       "        text-align: right;\n",
       "    }\n",
       "</style>\n",
       "<table border=\"1\" class=\"dataframe\">\n",
       "  <thead>\n",
       "    <tr style=\"text-align: right;\">\n",
       "      <th></th>\n",
       "      <th>id</th>\n",
       "      <th>diagnosis</th>\n",
       "      <th>radius_mean</th>\n",
       "      <th>texture_mean</th>\n",
       "      <th>perimeter_mean</th>\n",
       "      <th>area_mean</th>\n",
       "      <th>smoothness_mean</th>\n",
       "      <th>compactness_mean</th>\n",
       "      <th>concavity_mean</th>\n",
       "      <th>concave points_mean</th>\n",
       "      <th>...</th>\n",
       "      <th>texture_worst</th>\n",
       "      <th>perimeter_worst</th>\n",
       "      <th>area_worst</th>\n",
       "      <th>smoothness_worst</th>\n",
       "      <th>compactness_worst</th>\n",
       "      <th>concavity_worst</th>\n",
       "      <th>concave points_worst</th>\n",
       "      <th>symmetry_worst</th>\n",
       "      <th>fractal_dimension_worst</th>\n",
       "      <th>Unnamed: 32</th>\n",
       "    </tr>\n",
       "  </thead>\n",
       "  <tbody>\n",
       "    <tr>\n",
       "      <th>0</th>\n",
       "      <td>842302</td>\n",
       "      <td>M</td>\n",
       "      <td>17.99</td>\n",
       "      <td>10.38</td>\n",
       "      <td>122.8</td>\n",
       "      <td>1001.0</td>\n",
       "      <td>0.11840</td>\n",
       "      <td>0.27760</td>\n",
       "      <td>0.3001</td>\n",
       "      <td>0.14710</td>\n",
       "      <td>...</td>\n",
       "      <td>17.33</td>\n",
       "      <td>184.6</td>\n",
       "      <td>2019.0</td>\n",
       "      <td>0.1622</td>\n",
       "      <td>0.6656</td>\n",
       "      <td>0.7119</td>\n",
       "      <td>0.2654</td>\n",
       "      <td>0.4601</td>\n",
       "      <td>0.11890</td>\n",
       "      <td>NaN</td>\n",
       "    </tr>\n",
       "    <tr>\n",
       "      <th>1</th>\n",
       "      <td>842517</td>\n",
       "      <td>M</td>\n",
       "      <td>20.57</td>\n",
       "      <td>17.77</td>\n",
       "      <td>132.9</td>\n",
       "      <td>1326.0</td>\n",
       "      <td>0.08474</td>\n",
       "      <td>0.07864</td>\n",
       "      <td>0.0869</td>\n",
       "      <td>0.07017</td>\n",
       "      <td>...</td>\n",
       "      <td>23.41</td>\n",
       "      <td>158.8</td>\n",
       "      <td>1956.0</td>\n",
       "      <td>0.1238</td>\n",
       "      <td>0.1866</td>\n",
       "      <td>0.2416</td>\n",
       "      <td>0.1860</td>\n",
       "      <td>0.2750</td>\n",
       "      <td>0.08902</td>\n",
       "      <td>NaN</td>\n",
       "    </tr>\n",
       "  </tbody>\n",
       "</table>\n",
       "<p>2 rows × 33 columns</p>\n",
       "</div>"
      ],
      "text/plain": [
       "       id diagnosis  radius_mean  texture_mean  perimeter_mean  area_mean  \\\n",
       "0  842302         M        17.99         10.38           122.8     1001.0   \n",
       "1  842517         M        20.57         17.77           132.9     1326.0   \n",
       "\n",
       "   smoothness_mean  compactness_mean  concavity_mean  concave points_mean  \\\n",
       "0          0.11840           0.27760          0.3001              0.14710   \n",
       "1          0.08474           0.07864          0.0869              0.07017   \n",
       "\n",
       "   ...  texture_worst  perimeter_worst  area_worst  smoothness_worst  \\\n",
       "0  ...          17.33            184.6      2019.0            0.1622   \n",
       "1  ...          23.41            158.8      1956.0            0.1238   \n",
       "\n",
       "   compactness_worst  concavity_worst  concave points_worst  symmetry_worst  \\\n",
       "0             0.6656           0.7119                0.2654          0.4601   \n",
       "1             0.1866           0.2416                0.1860          0.2750   \n",
       "\n",
       "   fractal_dimension_worst  Unnamed: 32  \n",
       "0                  0.11890          NaN  \n",
       "1                  0.08902          NaN  \n",
       "\n",
       "[2 rows x 33 columns]"
      ]
     },
     "execution_count": 20,
     "metadata": {},
     "output_type": "execute_result"
    }
   ],
   "source": [
    "df_BCD = pd.read_csv('../../datasets/BreastCancerWisconsinDataSet.csv')\n",
    "df_BCD[:2]"
   ]
  },
  {
   "cell_type": "markdown",
   "id": "c5796f61-3055-4b3f-b449-1904e37d5585",
   "metadata": {},
   "source": [
    "#### 목표변수 - 연속형\n",
    "- 목표변수 : radius_mean\n",
    "- 설명변수 : drop columns - radius_mean, id, diagnosis, Unnamed: 32"
   ]
  },
  {
   "cell_type": "code",
   "execution_count": 21,
   "id": "43b40836-4a3b-4c16-a2c8-9413857e6723",
   "metadata": {
    "tags": []
   },
   "outputs": [
    {
     "name": "stdout",
     "output_type": "stream",
     "text": [
      "<class 'pandas.core.frame.DataFrame'>\n",
      "RangeIndex: 569 entries, 0 to 568\n",
      "Data columns (total 33 columns):\n",
      " #   Column                   Non-Null Count  Dtype  \n",
      "---  ------                   --------------  -----  \n",
      " 0   id                       569 non-null    int64  \n",
      " 1   diagnosis                569 non-null    object \n",
      " 2   radius_mean              569 non-null    float64\n",
      " 3   texture_mean             569 non-null    float64\n",
      " 4   perimeter_mean           569 non-null    float64\n",
      " 5   area_mean                569 non-null    float64\n",
      " 6   smoothness_mean          569 non-null    float64\n",
      " 7   compactness_mean         569 non-null    float64\n",
      " 8   concavity_mean           569 non-null    float64\n",
      " 9   concave points_mean      569 non-null    float64\n",
      " 10  symmetry_mean            569 non-null    float64\n",
      " 11  fractal_dimension_mean   569 non-null    float64\n",
      " 12  radius_se                569 non-null    float64\n",
      " 13  texture_se               569 non-null    float64\n",
      " 14  perimeter_se             569 non-null    float64\n",
      " 15  area_se                  569 non-null    float64\n",
      " 16  smoothness_se            569 non-null    float64\n",
      " 17  compactness_se           569 non-null    float64\n",
      " 18  concavity_se             569 non-null    float64\n",
      " 19  concave points_se        569 non-null    float64\n",
      " 20  symmetry_se              569 non-null    float64\n",
      " 21  fractal_dimension_se     569 non-null    float64\n",
      " 22  radius_worst             569 non-null    float64\n",
      " 23  texture_worst            569 non-null    float64\n",
      " 24  perimeter_worst          569 non-null    float64\n",
      " 25  area_worst               569 non-null    float64\n",
      " 26  smoothness_worst         569 non-null    float64\n",
      " 27  compactness_worst        569 non-null    float64\n",
      " 28  concavity_worst          569 non-null    float64\n",
      " 29  concave points_worst     569 non-null    float64\n",
      " 30  symmetry_worst           569 non-null    float64\n",
      " 31  fractal_dimension_worst  569 non-null    float64\n",
      " 32  Unnamed: 32              0 non-null      float64\n",
      "dtypes: float64(31), int64(1), object(1)\n",
      "memory usage: 146.8+ KB\n"
     ]
    }
   ],
   "source": [
    "df_BCD.info()"
   ]
  },
  {
   "cell_type": "markdown",
   "id": "7f326756-7066-4e09-8ee4-3728a063e6e8",
   "metadata": {},
   "source": [
    "#### PreProcessing"
   ]
  },
  {
   "cell_type": "markdown",
   "id": "f38b2ea7-1ad0-45de-9ed1-57d12d32d24a",
   "metadata": {},
   "source": [
    "##### 목표변수와 설명변수 축출"
   ]
  },
  {
   "cell_type": "code",
   "execution_count": 22,
   "id": "ab162b32-ba52-44fb-a6dc-ffa12961a195",
   "metadata": {
    "tags": []
   },
   "outputs": [],
   "source": [
    "#df_BCD.drop(columns=['id', 'diagnosis', 'Unnamed: 32']).info()\n",
    "df_BCD_extract = df_BCD.drop(columns=['id', 'diagnosis', 'Unnamed: 32'])"
   ]
  },
  {
   "cell_type": "code",
   "execution_count": 23,
   "id": "2f6e2dcc-6bb5-4fb1-aec0-39fe5e3d1f58",
   "metadata": {
    "tags": []
   },
   "outputs": [
    {
     "data": {
      "text/plain": [
       "radius_mean                0\n",
       "texture_mean               0\n",
       "perimeter_mean             0\n",
       "area_mean                  0\n",
       "smoothness_mean            0\n",
       "compactness_mean           0\n",
       "concavity_mean             0\n",
       "concave points_mean        0\n",
       "symmetry_mean              0\n",
       "fractal_dimension_mean     0\n",
       "radius_se                  0\n",
       "texture_se                 0\n",
       "perimeter_se               0\n",
       "area_se                    0\n",
       "smoothness_se              0\n",
       "compactness_se             0\n",
       "concavity_se               0\n",
       "concave points_se          0\n",
       "symmetry_se                0\n",
       "fractal_dimension_se       0\n",
       "radius_worst               0\n",
       "texture_worst              0\n",
       "perimeter_worst            0\n",
       "area_worst                 0\n",
       "smoothness_worst           0\n",
       "compactness_worst          0\n",
       "concavity_worst            0\n",
       "concave points_worst       0\n",
       "symmetry_worst             0\n",
       "fractal_dimension_worst    0\n",
       "dtype: int64"
      ]
     },
     "execution_count": 23,
     "metadata": {},
     "output_type": "execute_result"
    }
   ],
   "source": [
    "df_BCD_extract.isnull().sum()"
   ]
  },
  {
   "cell_type": "markdown",
   "id": "15102f99-c50f-4a49-8d24-6b442dc6cbde",
   "metadata": {},
   "source": [
    "##### Structured data \n",
    "- 목표변수, Y, **Target**\n",
    "- 설명변수, X, **Label**"
   ]
  },
  {
   "cell_type": "code",
   "execution_count": 24,
   "id": "f6860d73-b07e-4cbd-9690-8a37de153857",
   "metadata": {},
   "outputs": [],
   "source": [
    "target = df_BCD_extract['radius_mean']\n",
    "labels = df_BCD_extract.drop(columns=['radius_mean'])"
   ]
  },
  {
   "cell_type": "code",
   "execution_count": 25,
   "id": "0beb3a52-e5c2-4435-b177-25d990c93a29",
   "metadata": {},
   "outputs": [
    {
     "data": {
      "text/plain": [
       "((569,), (569, 29))"
      ]
     },
     "execution_count": 25,
     "metadata": {},
     "output_type": "execute_result"
    }
   ],
   "source": [
    "#target[:2]\n",
    "# labels[:2]\n",
    "target.shape, labels.shape"
   ]
  },
  {
   "cell_type": "markdown",
   "id": "a9af0381-4b9d-4491-8496-c4fd676d72c8",
   "metadata": {},
   "source": [
    "#### 모델(알고리즘)학습"
   ]
  },
  {
   "cell_type": "code",
   "execution_count": 26,
   "id": "1b2d6463-ca00-4cc4-874c-0d87b362ddb1",
   "metadata": {},
   "outputs": [],
   "source": [
    "from sklearn.linear_model import LinearRegression"
   ]
  },
  {
   "cell_type": "code",
   "execution_count": 27,
   "id": "d15d1ba1-4c41-460e-b569-754f16ba9eeb",
   "metadata": {},
   "outputs": [],
   "source": [
    "model = LinearRegression()"
   ]
  },
  {
   "cell_type": "markdown",
   "id": "248a7916-7563-4657-8a81-b1284fb1d268",
   "metadata": {},
   "source": [
    "##### 모델 학습"
   ]
  },
  {
   "cell_type": "code",
   "execution_count": 28,
   "id": "058b7537-96b3-4473-bd50-cd6e4a0652f0",
   "metadata": {},
   "outputs": [
    {
     "data": {
      "text/plain": [
       "LinearRegression()"
      ]
     },
     "execution_count": 28,
     "metadata": {},
     "output_type": "execute_result"
    }
   ],
   "source": [
    "model.fit(labels, target)"
   ]
  },
  {
   "cell_type": "markdown",
   "id": "35dd9be2-d016-4c19-a931-d6639de2e74f",
   "metadata": {},
   "source": [
    "#### 평가 (나중에 함)"
   ]
  },
  {
   "cell_type": "markdown",
   "id": "bee09e3b-baef-43bf-b19c-eb78537c36e3",
   "metadata": {},
   "source": [
    "#### 미래예측(서비스 개시)"
   ]
  },
  {
   "cell_type": "code",
   "execution_count": 29,
   "id": "1b8b7330-3e34-4131-823c-2fad21527753",
   "metadata": {},
   "outputs": [
    {
     "data": {
      "text/html": [
       "<div>\n",
       "<style scoped>\n",
       "    .dataframe tbody tr th:only-of-type {\n",
       "        vertical-align: middle;\n",
       "    }\n",
       "\n",
       "    .dataframe tbody tr th {\n",
       "        vertical-align: top;\n",
       "    }\n",
       "\n",
       "    .dataframe thead th {\n",
       "        text-align: right;\n",
       "    }\n",
       "</style>\n",
       "<table border=\"1\" class=\"dataframe\">\n",
       "  <thead>\n",
       "    <tr style=\"text-align: right;\">\n",
       "      <th></th>\n",
       "      <th>texture_mean</th>\n",
       "      <th>perimeter_mean</th>\n",
       "      <th>area_mean</th>\n",
       "      <th>smoothness_mean</th>\n",
       "      <th>compactness_mean</th>\n",
       "      <th>concavity_mean</th>\n",
       "      <th>concave points_mean</th>\n",
       "      <th>symmetry_mean</th>\n",
       "      <th>fractal_dimension_mean</th>\n",
       "      <th>radius_se</th>\n",
       "      <th>...</th>\n",
       "      <th>radius_worst</th>\n",
       "      <th>texture_worst</th>\n",
       "      <th>perimeter_worst</th>\n",
       "      <th>area_worst</th>\n",
       "      <th>smoothness_worst</th>\n",
       "      <th>compactness_worst</th>\n",
       "      <th>concavity_worst</th>\n",
       "      <th>concave points_worst</th>\n",
       "      <th>symmetry_worst</th>\n",
       "      <th>fractal_dimension_worst</th>\n",
       "    </tr>\n",
       "  </thead>\n",
       "  <tbody>\n",
       "    <tr>\n",
       "      <th>0</th>\n",
       "      <td>10.38</td>\n",
       "      <td>122.8</td>\n",
       "      <td>1001.0</td>\n",
       "      <td>0.1184</td>\n",
       "      <td>0.2776</td>\n",
       "      <td>0.3001</td>\n",
       "      <td>0.1471</td>\n",
       "      <td>0.2419</td>\n",
       "      <td>0.07871</td>\n",
       "      <td>1.095</td>\n",
       "      <td>...</td>\n",
       "      <td>25.38</td>\n",
       "      <td>17.33</td>\n",
       "      <td>184.6</td>\n",
       "      <td>2019.0</td>\n",
       "      <td>0.1622</td>\n",
       "      <td>0.6656</td>\n",
       "      <td>0.7119</td>\n",
       "      <td>0.2654</td>\n",
       "      <td>0.4601</td>\n",
       "      <td>0.1189</td>\n",
       "    </tr>\n",
       "  </tbody>\n",
       "</table>\n",
       "<p>1 rows × 29 columns</p>\n",
       "</div>"
      ],
      "text/plain": [
       "   texture_mean  perimeter_mean  area_mean  smoothness_mean  compactness_mean  \\\n",
       "0         10.38           122.8     1001.0           0.1184            0.2776   \n",
       "\n",
       "   concavity_mean  concave points_mean  symmetry_mean  fractal_dimension_mean  \\\n",
       "0          0.3001               0.1471         0.2419                 0.07871   \n",
       "\n",
       "   radius_se  ...  radius_worst  texture_worst  perimeter_worst  area_worst  \\\n",
       "0      1.095  ...         25.38          17.33            184.6      2019.0   \n",
       "\n",
       "   smoothness_worst  compactness_worst  concavity_worst  concave points_worst  \\\n",
       "0            0.1622             0.6656           0.7119                0.2654   \n",
       "\n",
       "   symmetry_worst  fractal_dimension_worst  \n",
       "0          0.4601                   0.1189  \n",
       "\n",
       "[1 rows x 29 columns]"
      ]
     },
     "execution_count": 29,
     "metadata": {},
     "output_type": "execute_result"
    }
   ],
   "source": [
    "test_set = labels[:1]\n",
    "test_set"
   ]
  },
  {
   "cell_type": "code",
   "execution_count": 30,
   "id": "97b6c1d5-e176-4dcc-b787-aaba6595b82b",
   "metadata": {},
   "outputs": [
    {
     "data": {
      "text/plain": [
       "array([17.75116355])"
      ]
     },
     "execution_count": 30,
     "metadata": {},
     "output_type": "execute_result"
    }
   ],
   "source": [
    "model.predict(test_set)"
   ]
  },
  {
   "cell_type": "code",
   "execution_count": 31,
   "id": "0c497da4-927a-4839-9cfc-c824d0c69488",
   "metadata": {},
   "outputs": [
    {
     "data": {
      "text/plain": [
       "0    17.99\n",
       "Name: radius_mean, dtype: float64"
      ]
     },
     "execution_count": 31,
     "metadata": {},
     "output_type": "execute_result"
    }
   ],
   "source": [
    "target[:1]"
   ]
  },
  {
   "cell_type": "code",
   "execution_count": null,
   "id": "3d7a778e-f60c-4a92-8391-5c10eab3004f",
   "metadata": {},
   "outputs": [],
   "source": [
    "# 모든 컬럼에 대해 값들을 무작위로 삭제\n",
    "delete_ratio =0.2 #삭제 비율(50%)\n",
    "\n",
    "random_mask = np.random.rand(*df.shape) < delete_ratio \n",
    "df[random_mask] = np.nan"
   ]
  }
 ],
 "metadata": {
  "kernelspec": {
   "display_name": "Python 3 (ipykernel)",
   "language": "python",
   "name": "python3"
  },
  "language_info": {
   "codemirror_mode": {
    "name": "ipython",
    "version": 3
   },
   "file_extension": ".py",
   "mimetype": "text/x-python",
   "name": "python",
   "nbconvert_exporter": "python",
   "pygments_lexer": "ipython3",
   "version": "3.9.13"
  }
 },
 "nbformat": 4,
 "nbformat_minor": 5
}
