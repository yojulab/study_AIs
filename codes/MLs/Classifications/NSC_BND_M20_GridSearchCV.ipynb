{
 "cells": [
  {
   "cell_type": "markdown",
   "id": "7266351a-be10-4c5c-be96-81127a9825fd",
   "metadata": {},
   "source": [
    "### 전처리"
   ]
  },
  {
   "cell_type": "code",
   "execution_count": 1,
   "id": "891bab57-9675-49e9-b2db-294acad10be5",
   "metadata": {},
   "outputs": [],
   "source": [
    "import pymongo as mg\n",
    "import pandas as pd"
   ]
  },
  {
   "cell_type": "code",
   "execution_count": 2,
   "id": "b0c64e82-a26d-4896-ba20-548fb53a5151",
   "metadata": {},
   "outputs": [],
   "source": [
    "client = mg.MongoClient(host='mongodb://localhost:27017')"
   ]
  },
  {
   "cell_type": "code",
   "execution_count": 3,
   "id": "e01cdd04-218e-400a-9c29-b3658b25ca24",
   "metadata": {},
   "outputs": [],
   "source": [
    "database = client['db_NHIS']\n",
    "collection = database['NSC2_BND_M20']"
   ]
  },
  {
   "cell_type": "code",
   "execution_count": 4,
   "id": "473451b0-f511-41bb-a341-960ec151001e",
   "metadata": {},
   "outputs": [],
   "source": [
    "cursor = collection.find({})\n",
    "list_BND_M20 = list(cursor)"
   ]
  },
  {
   "cell_type": "code",
   "execution_count": 5,
   "id": "acb94c67-85f2-465e-a89c-96861024144c",
   "metadata": {},
   "outputs": [
    {
     "data": {
      "text/html": [
       "<div>\n",
       "<style scoped>\n",
       "    .dataframe tbody tr th:only-of-type {\n",
       "        vertical-align: middle;\n",
       "    }\n",
       "\n",
       "    .dataframe tbody tr th {\n",
       "        vertical-align: top;\n",
       "    }\n",
       "\n",
       "    .dataframe thead th {\n",
       "        text-align: right;\n",
       "    }\n",
       "</style>\n",
       "<table border=\"1\" class=\"dataframe\">\n",
       "  <thead>\n",
       "    <tr style=\"text-align: right;\">\n",
       "      <th></th>\n",
       "      <th>_id</th>\n",
       "      <th>RN_INDI</th>\n",
       "      <th>BTH_YYYY</th>\n",
       "      <th>DTH_YYYYMM</th>\n",
       "      <th>COD1</th>\n",
       "      <th>COD2</th>\n",
       "      <th>EDC_ADD_RT</th>\n",
       "      <th>ED_RC_TOT_AMT</th>\n",
       "      <th>SICK_SYM1</th>\n",
       "    </tr>\n",
       "  </thead>\n",
       "  <tbody>\n",
       "    <tr>\n",
       "      <th>0</th>\n",
       "      <td>64ed6a2652642d1f5783b3b2</td>\n",
       "      <td>294364</td>\n",
       "      <td>1921LE</td>\n",
       "      <td>200707.0</td>\n",
       "      <td>T08-T14</td>\n",
       "      <td>W00-W19</td>\n",
       "      <td>0.15</td>\n",
       "      <td>10590</td>\n",
       "      <td>L028</td>\n",
       "    </tr>\n",
       "    <tr>\n",
       "      <th>1</th>\n",
       "      <td>64ed6a2652642d1f5783b3b3</td>\n",
       "      <td>294364</td>\n",
       "      <td>1921LE</td>\n",
       "      <td>200707.0</td>\n",
       "      <td>T08-T14</td>\n",
       "      <td>W00-W19</td>\n",
       "      <td>0.15</td>\n",
       "      <td>16520</td>\n",
       "      <td>J030</td>\n",
       "    </tr>\n",
       "  </tbody>\n",
       "</table>\n",
       "</div>"
      ],
      "text/plain": [
       "                        _id  RN_INDI BTH_YYYY  DTH_YYYYMM     COD1     COD2  \\\n",
       "0  64ed6a2652642d1f5783b3b2   294364   1921LE    200707.0  T08-T14  W00-W19   \n",
       "1  64ed6a2652642d1f5783b3b3   294364   1921LE    200707.0  T08-T14  W00-W19   \n",
       "\n",
       "   EDC_ADD_RT  ED_RC_TOT_AMT SICK_SYM1  \n",
       "0        0.15          10590      L028  \n",
       "1        0.15          16520      J030  "
      ]
     },
     "execution_count": 5,
     "metadata": {},
     "output_type": "execute_result"
    }
   ],
   "source": [
    "df_BND_M20 = pd.DataFrame(list_BND_M20)\n",
    "df_BND_M20[:2]"
   ]
  },
  {
   "cell_type": "code",
   "execution_count": 6,
   "id": "d6797486-ab68-4bb4-bf4f-2e052cdcd101",
   "metadata": {},
   "outputs": [
    {
     "data": {
      "text/plain": [
       "J209     8244\n",
       "I10      4629\n",
       "I109     3275\n",
       "F_       3203\n",
       "N_       3177\n",
       "         ... \n",
       "H700        1\n",
       "E058        1\n",
       "M5397       1\n",
       "T18         1\n",
       "P289        1\n",
       "Name: SICK_SYM1, Length: 3414, dtype: int64"
      ]
     },
     "execution_count": 6,
     "metadata": {},
     "output_type": "execute_result"
    }
   ],
   "source": [
    "df_BND_M20['SICK_SYM1'].value_counts()"
   ]
  },
  {
   "cell_type": "code",
   "execution_count": 7,
   "id": "1edc9438-2df4-45a3-aad7-a95319b2a841",
   "metadata": {},
   "outputs": [
    {
     "data": {
      "text/plain": [
       "(2, 4, 'J20', 'T18')"
      ]
     },
     "execution_count": 7,
     "metadata": {},
     "output_type": "execute_result"
    }
   ],
   "source": [
    "len('F_'), len('J209'), 'J209'[:3], str('T18')[:3]"
   ]
  },
  {
   "cell_type": "code",
   "execution_count": 8,
   "id": "827c5db0-d491-41e8-9ae9-638e0c71c761",
   "metadata": {},
   "outputs": [],
   "source": [
    "def convertSICK_SYM(sick_sym) :\n",
    "    if len(sick_sym) < 3:\n",
    "        return None\n",
    "    else :\n",
    "        return sick_sym[:3]"
   ]
  },
  {
   "cell_type": "code",
   "execution_count": 9,
   "id": "2198be75-3008-41fa-b813-713dbec41b7d",
   "metadata": {},
   "outputs": [
    {
     "data": {
      "text/plain": [
       "('J20', None)"
      ]
     },
     "execution_count": 9,
     "metadata": {},
     "output_type": "execute_result"
    }
   ],
   "source": [
    "convertSICK_SYM('J209'), convertSICK_SYM('F_')"
   ]
  },
  {
   "cell_type": "code",
   "execution_count": 10,
   "id": "76d1e850-13c2-44f2-99b8-a826453db32e",
   "metadata": {},
   "outputs": [],
   "source": [
    "df_BND_M20['SICK_SYM1_3'] = df_BND_M20['SICK_SYM1'].apply(convertSICK_SYM)"
   ]
  },
  {
   "cell_type": "code",
   "execution_count": 11,
   "id": "6a013c2f-80fa-47b9-93a9-5284ca18dc40",
   "metadata": {},
   "outputs": [
    {
     "data": {
      "text/plain": [
       "J20    8917\n",
       "I10    8427\n",
       "J03    4187\n",
       "M54    3904\n",
       "J06    3460\n",
       "       ... \n",
       "G97       1\n",
       "K01       1\n",
       "S28       1\n",
       "I72       1\n",
       "P28       1\n",
       "Name: SICK_SYM1_3, Length: 747, dtype: int64"
      ]
     },
     "execution_count": 11,
     "metadata": {},
     "output_type": "execute_result"
    }
   ],
   "source": [
    "df_BND_M20['SICK_SYM1_3'].value_counts()"
   ]
  },
  {
   "cell_type": "code",
   "execution_count": 12,
   "id": "a8e854c8-e87d-410b-8594-2a0b7ab32984",
   "metadata": {},
   "outputs": [
    {
     "data": {
      "text/plain": [
       "_id              0\n",
       "RN_INDI          0\n",
       "BTH_YYYY         0\n",
       "DTH_YYYYMM       0\n",
       "COD1             0\n",
       "COD2             0\n",
       "EDC_ADD_RT       0\n",
       "ED_RC_TOT_AMT    0\n",
       "SICK_SYM1        0\n",
       "SICK_SYM1_3      0\n",
       "dtype: int64"
      ]
     },
     "execution_count": 12,
     "metadata": {},
     "output_type": "execute_result"
    }
   ],
   "source": [
    "df_BND_M20_dropna = df_BND_M20.dropna()\n",
    "df_BND_M20_dropna.isnull().sum()"
   ]
  },
  {
   "cell_type": "code",
   "execution_count": 13,
   "id": "9c4aa761-685b-424c-be36-c5be746a5136",
   "metadata": {},
   "outputs": [
    {
     "data": {
      "text/html": [
       "<div>\n",
       "<style scoped>\n",
       "    .dataframe tbody tr th:only-of-type {\n",
       "        vertical-align: middle;\n",
       "    }\n",
       "\n",
       "    .dataframe tbody tr th {\n",
       "        vertical-align: top;\n",
       "    }\n",
       "\n",
       "    .dataframe thead th {\n",
       "        text-align: right;\n",
       "    }\n",
       "</style>\n",
       "<table border=\"1\" class=\"dataframe\">\n",
       "  <thead>\n",
       "    <tr style=\"text-align: right;\">\n",
       "      <th></th>\n",
       "      <th>_id</th>\n",
       "      <th>RN_INDI</th>\n",
       "      <th>BTH_YYYY</th>\n",
       "      <th>DTH_YYYYMM</th>\n",
       "      <th>COD1</th>\n",
       "      <th>COD2</th>\n",
       "      <th>EDC_ADD_RT</th>\n",
       "      <th>ED_RC_TOT_AMT</th>\n",
       "      <th>SICK_SYM1</th>\n",
       "      <th>SICK_SYM1_3</th>\n",
       "    </tr>\n",
       "  </thead>\n",
       "  <tbody>\n",
       "    <tr>\n",
       "      <th>0</th>\n",
       "      <td>64ed6a2652642d1f5783b3b2</td>\n",
       "      <td>294364</td>\n",
       "      <td>1921LE</td>\n",
       "      <td>200707.0</td>\n",
       "      <td>T08-T14</td>\n",
       "      <td>W00-W19</td>\n",
       "      <td>0.15</td>\n",
       "      <td>10590</td>\n",
       "      <td>L028</td>\n",
       "      <td>L02</td>\n",
       "    </tr>\n",
       "    <tr>\n",
       "      <th>1</th>\n",
       "      <td>64ed6a2652642d1f5783b3b3</td>\n",
       "      <td>294364</td>\n",
       "      <td>1921LE</td>\n",
       "      <td>200707.0</td>\n",
       "      <td>T08-T14</td>\n",
       "      <td>W00-W19</td>\n",
       "      <td>0.15</td>\n",
       "      <td>16520</td>\n",
       "      <td>J030</td>\n",
       "      <td>J03</td>\n",
       "    </tr>\n",
       "  </tbody>\n",
       "</table>\n",
       "</div>"
      ],
      "text/plain": [
       "                        _id  RN_INDI BTH_YYYY  DTH_YYYYMM     COD1     COD2  \\\n",
       "0  64ed6a2652642d1f5783b3b2   294364   1921LE    200707.0  T08-T14  W00-W19   \n",
       "1  64ed6a2652642d1f5783b3b3   294364   1921LE    200707.0  T08-T14  W00-W19   \n",
       "\n",
       "   EDC_ADD_RT  ED_RC_TOT_AMT SICK_SYM1 SICK_SYM1_3  \n",
       "0        0.15          10590      L028         L02  \n",
       "1        0.15          16520      J030         J03  "
      ]
     },
     "execution_count": 13,
     "metadata": {},
     "output_type": "execute_result"
    }
   ],
   "source": [
    "df_BND_M20_dropna[:2]"
   ]
  },
  {
   "cell_type": "code",
   "execution_count": 14,
   "id": "f6b45397-d425-488e-ae2c-086f28a6ba82",
   "metadata": {},
   "outputs": [],
   "source": [
    "target_list = df_BND_M20_dropna['SICK_SYM1_3'].value_counts().index.to_list()"
   ]
  },
  {
   "cell_type": "code",
   "execution_count": 15,
   "id": "b6cfe6eb-8c4a-49af-9da7-6a85767b6f6b",
   "metadata": {},
   "outputs": [
    {
     "data": {
      "text/plain": [
       "(88, 4)"
      ]
     },
     "execution_count": 15,
     "metadata": {},
     "output_type": "execute_result"
    }
   ],
   "source": [
    "target_list.index('L02'), target_list.index('J03'), "
   ]
  },
  {
   "cell_type": "code",
   "execution_count": 16,
   "id": "ffac0ca7-42d5-401e-b38e-568283b44f7a",
   "metadata": {},
   "outputs": [],
   "source": [
    "def applyIndexNumber(sick_sym_3):\n",
    "    indexNumber = target_list.index(sick_sym_3)\n",
    "    return indexNumber"
   ]
  },
  {
   "cell_type": "code",
   "execution_count": 29,
   "id": "6d11afca-09ea-4d1c-83b6-5a6abbb9fc3a",
   "metadata": {},
   "outputs": [
    {
     "name": "stderr",
     "output_type": "stream",
     "text": [
      "C:\\Users\\05-16\\AppData\\Local\\Temp\\ipykernel_1556\\955732597.py:1: SettingWithCopyWarning: \n",
      "A value is trying to be set on a copy of a slice from a DataFrame\n",
      "\n",
      "See the caveats in the documentation: https://pandas.pydata.org/pandas-docs/stable/user_guide/indexing.html#returning-a-view-versus-a-copy\n",
      "  df_BND_M20_dropna.loc['SICK_SYM1_3_target'] = df_BND_M20_dropna['SICK_SYM1_3'].apply(applyIndexNumber)\n"
     ]
    },
    {
     "data": {
      "text/html": [
       "<div>\n",
       "<style scoped>\n",
       "    .dataframe tbody tr th:only-of-type {\n",
       "        vertical-align: middle;\n",
       "    }\n",
       "\n",
       "    .dataframe tbody tr th {\n",
       "        vertical-align: top;\n",
       "    }\n",
       "\n",
       "    .dataframe thead th {\n",
       "        text-align: right;\n",
       "    }\n",
       "</style>\n",
       "<table border=\"1\" class=\"dataframe\">\n",
       "  <thead>\n",
       "    <tr style=\"text-align: right;\">\n",
       "      <th></th>\n",
       "      <th>_id</th>\n",
       "      <th>RN_INDI</th>\n",
       "      <th>BTH_YYYY</th>\n",
       "      <th>DTH_YYYYMM</th>\n",
       "      <th>COD1</th>\n",
       "      <th>COD2</th>\n",
       "      <th>EDC_ADD_RT</th>\n",
       "      <th>ED_RC_TOT_AMT</th>\n",
       "      <th>SICK_SYM1</th>\n",
       "      <th>SICK_SYM1_3</th>\n",
       "      <th>SICK_SYM1_3_target</th>\n",
       "    </tr>\n",
       "  </thead>\n",
       "  <tbody>\n",
       "    <tr>\n",
       "      <th>0</th>\n",
       "      <td>64ed6a2652642d1f5783b3b2</td>\n",
       "      <td>294364.0</td>\n",
       "      <td>1921LE</td>\n",
       "      <td>200707.0</td>\n",
       "      <td>T08-T14</td>\n",
       "      <td>W00-W19</td>\n",
       "      <td>0.15</td>\n",
       "      <td>10590.0</td>\n",
       "      <td>L028</td>\n",
       "      <td>L02</td>\n",
       "      <td>88.0</td>\n",
       "    </tr>\n",
       "    <tr>\n",
       "      <th>1</th>\n",
       "      <td>64ed6a2652642d1f5783b3b3</td>\n",
       "      <td>294364.0</td>\n",
       "      <td>1921LE</td>\n",
       "      <td>200707.0</td>\n",
       "      <td>T08-T14</td>\n",
       "      <td>W00-W19</td>\n",
       "      <td>0.15</td>\n",
       "      <td>16520.0</td>\n",
       "      <td>J030</td>\n",
       "      <td>J03</td>\n",
       "      <td>4.0</td>\n",
       "    </tr>\n",
       "  </tbody>\n",
       "</table>\n",
       "</div>"
      ],
      "text/plain": [
       "                        _id   RN_INDI BTH_YYYY  DTH_YYYYMM     COD1     COD2  \\\n",
       "0  64ed6a2652642d1f5783b3b2  294364.0   1921LE    200707.0  T08-T14  W00-W19   \n",
       "1  64ed6a2652642d1f5783b3b3  294364.0   1921LE    200707.0  T08-T14  W00-W19   \n",
       "\n",
       "   EDC_ADD_RT  ED_RC_TOT_AMT SICK_SYM1 SICK_SYM1_3  SICK_SYM1_3_target  \n",
       "0        0.15        10590.0      L028         L02                88.0  \n",
       "1        0.15        16520.0      J030         J03                 4.0  "
      ]
     },
     "execution_count": 29,
     "metadata": {},
     "output_type": "execute_result"
    }
   ],
   "source": [
    "df_BND_M20_dropna.loc['SICK_SYM1_3_target'] = df_BND_M20_dropna['SICK_SYM1_3'].apply(applyIndexNumber)\n",
    "df_BND_M20_dropna[:2]"
   ]
  },
  {
   "cell_type": "markdown",
   "id": "af0ee9d5-51f2-4011-a9dd-80b51391d575",
   "metadata": {},
   "source": [
    "### 정형화"
   ]
  },
  {
   "cell_type": "code",
   "execution_count": 18,
   "id": "faae3f09-aadf-4fae-924b-8efbbb087896",
   "metadata": {},
   "outputs": [
    {
     "data": {
      "text/plain": [
       "Index(['_id', 'RN_INDI', 'BTH_YYYY', 'DTH_YYYYMM', 'COD1', 'COD2',\n",
       "       'EDC_ADD_RT', 'ED_RC_TOT_AMT', 'SICK_SYM1', 'SICK_SYM1_3',\n",
       "       'SICK_SYM1_3_target'],\n",
       "      dtype='object')"
      ]
     },
     "execution_count": 18,
     "metadata": {},
     "output_type": "execute_result"
    }
   ],
   "source": [
    "df_BND_M20_dropna.columns"
   ]
  },
  {
   "cell_type": "code",
   "execution_count": 19,
   "id": "7cecde0f-d2a6-453b-a4f8-af657cf072ba",
   "metadata": {},
   "outputs": [
    {
     "data": {
      "text/plain": [
       "((897,), (897, 2))"
      ]
     },
     "execution_count": 19,
     "metadata": {},
     "output_type": "execute_result"
    }
   ],
   "source": [
    "target = df_BND_M20_dropna['SICK_SYM1_3_target']\n",
    "features = df_BND_M20_dropna[['EDC_ADD_RT', 'ED_RC_TOT_AMT',]]\n",
    "target.shape, features.shape"
   ]
  },
  {
   "cell_type": "code",
   "execution_count": 20,
   "id": "cb871130-4037-44e1-bc52-9f4fd4942c60",
   "metadata": {},
   "outputs": [
    {
     "data": {
      "text/plain": [
       "((672, 2), (672,), (225, 2), (225,))"
      ]
     },
     "execution_count": 20,
     "metadata": {},
     "output_type": "execute_result"
    }
   ],
   "source": [
    "from sklearn.model_selection import train_test_split\n",
    "features_train, features_test, target_train, target_test = train_test_split(features, target, random_state=111)\n",
    "features_train.shape, target_train.shape, features_test.shape, target_test.shape"
   ]
  },
  {
   "cell_type": "markdown",
   "id": "3063598a-571f-426b-a1d3-2f5c07f02163",
   "metadata": {},
   "source": [
    "#### 모델학습 "
   ]
  },
  {
   "cell_type": "code",
   "execution_count": 21,
   "id": "98abf363-10d2-4d20-9395-7fc6008ce18e",
   "metadata": {},
   "outputs": [],
   "source": [
    "from sklearn.tree import DecisionTreeClassifier, DecisionTreeRegressor"
   ]
  },
  {
   "cell_type": "code",
   "execution_count": 22,
   "id": "12ed4ead-068f-4341-8674-1aeed02fa9a2",
   "metadata": {},
   "outputs": [],
   "source": [
    "model = DecisionTreeClassifier()"
   ]
  },
  {
   "cell_type": "code",
   "execution_count": 23,
   "id": "b7077459-ae72-470e-b043-9c6df7ffdfbd",
   "metadata": {},
   "outputs": [],
   "source": [
    "from sklearn.model_selection import GridSearchCV"
   ]
  },
  {
   "cell_type": "code",
   "execution_count": 24,
   "id": "baa75036-6c27-4276-bf0b-c0474869ba52",
   "metadata": {},
   "outputs": [],
   "source": [
    "hyper_params = {'min_samples_leaf' : range(2,5)\n",
    "               , 'max_depth' : range(2,5)\n",
    "               , 'min_samples_split' : range(2,5)}"
   ]
  },
  {
   "cell_type": "markdown",
   "id": "8eaf9306-021e-4374-88cb-9ea0745faf73",
   "metadata": {},
   "source": [
    "##### 평가 score : 분류-정확도, 예측-R squre"
   ]
  },
  {
   "cell_type": "code",
   "execution_count": 25,
   "id": "d1910046-0503-4b79-a54e-ea0de85b2d7e",
   "metadata": {},
   "outputs": [],
   "source": [
    "from sklearn.metrics import make_scorer, f1_score"
   ]
  },
  {
   "cell_type": "code",
   "execution_count": 27,
   "id": "ab73c475-0252-4a9e-8b3c-fa7b2aff9366",
   "metadata": {},
   "outputs": [],
   "source": [
    "scoring_method = make_scorer(f1_score)"
   ]
  },
  {
   "cell_type": "code",
   "execution_count": 28,
   "id": "da2489e1-9179-49d0-92e5-a8b574bb8d6a",
   "metadata": {},
   "outputs": [],
   "source": [
    "grid_search = GridSearchCV(model, param_grid=hyper_params, cv=2\n",
    "                           , verbose=1, scoring=scoring_method)"
   ]
  },
  {
   "cell_type": "code",
   "execution_count": 70,
   "id": "6a9b48aa-dfa2-45bf-85ad-144c8253458d",
   "metadata": {
    "collapsed": true,
    "jupyter": {
     "outputs_hidden": true
    },
    "tags": []
   },
   "outputs": [
    {
     "name": "stdout",
     "output_type": "stream",
     "text": [
      "Fitting 2 folds for each of 27 candidates, totalling 54 fits\n"
     ]
    },
    {
     "name": "stderr",
     "output_type": "stream",
     "text": [
      "C:\\Users\\05-16\\anaconda3\\lib\\site-packages\\sklearn\\model_selection\\_split.py:676: UserWarning: The least populated class in y has only 1 members, which is less than n_splits=2.\n",
      "  warnings.warn(\n",
      "C:\\Users\\05-16\\anaconda3\\lib\\site-packages\\sklearn\\model_selection\\_validation.py:770: UserWarning: Scoring failed. The score on this train-test partition for these parameters will be set to nan. Details: \n",
      "Traceback (most recent call last):\n",
      "  File \"C:\\Users\\05-16\\anaconda3\\lib\\site-packages\\sklearn\\model_selection\\_validation.py\", line 761, in _score\n",
      "    scores = scorer(estimator, X_test, y_test)\n",
      "TypeError: f1_score() takes 2 positional arguments but 3 were given\n",
      "\n",
      "  warnings.warn(\n",
      "C:\\Users\\05-16\\anaconda3\\lib\\site-packages\\sklearn\\model_selection\\_validation.py:770: UserWarning: Scoring failed. The score on this train-test partition for these parameters will be set to nan. Details: \n",
      "Traceback (most recent call last):\n",
      "  File \"C:\\Users\\05-16\\anaconda3\\lib\\site-packages\\sklearn\\model_selection\\_validation.py\", line 761, in _score\n",
      "    scores = scorer(estimator, X_test, y_test)\n",
      "TypeError: f1_score() takes 2 positional arguments but 3 were given\n",
      "\n",
      "  warnings.warn(\n",
      "C:\\Users\\05-16\\anaconda3\\lib\\site-packages\\sklearn\\model_selection\\_validation.py:770: UserWarning: Scoring failed. The score on this train-test partition for these parameters will be set to nan. Details: \n",
      "Traceback (most recent call last):\n",
      "  File \"C:\\Users\\05-16\\anaconda3\\lib\\site-packages\\sklearn\\model_selection\\_validation.py\", line 761, in _score\n",
      "    scores = scorer(estimator, X_test, y_test)\n",
      "TypeError: f1_score() takes 2 positional arguments but 3 were given\n",
      "\n",
      "  warnings.warn(\n",
      "C:\\Users\\05-16\\anaconda3\\lib\\site-packages\\sklearn\\model_selection\\_validation.py:770: UserWarning: Scoring failed. The score on this train-test partition for these parameters will be set to nan. Details: \n",
      "Traceback (most recent call last):\n",
      "  File \"C:\\Users\\05-16\\anaconda3\\lib\\site-packages\\sklearn\\model_selection\\_validation.py\", line 761, in _score\n",
      "    scores = scorer(estimator, X_test, y_test)\n",
      "TypeError: f1_score() takes 2 positional arguments but 3 were given\n",
      "\n",
      "  warnings.warn(\n",
      "C:\\Users\\05-16\\anaconda3\\lib\\site-packages\\sklearn\\model_selection\\_validation.py:770: UserWarning: Scoring failed. The score on this train-test partition for these parameters will be set to nan. Details: \n",
      "Traceback (most recent call last):\n",
      "  File \"C:\\Users\\05-16\\anaconda3\\lib\\site-packages\\sklearn\\model_selection\\_validation.py\", line 761, in _score\n",
      "    scores = scorer(estimator, X_test, y_test)\n",
      "TypeError: f1_score() takes 2 positional arguments but 3 were given\n",
      "\n",
      "  warnings.warn(\n",
      "C:\\Users\\05-16\\anaconda3\\lib\\site-packages\\sklearn\\model_selection\\_validation.py:770: UserWarning: Scoring failed. The score on this train-test partition for these parameters will be set to nan. Details: \n",
      "Traceback (most recent call last):\n",
      "  File \"C:\\Users\\05-16\\anaconda3\\lib\\site-packages\\sklearn\\model_selection\\_validation.py\", line 761, in _score\n",
      "    scores = scorer(estimator, X_test, y_test)\n",
      "TypeError: f1_score() takes 2 positional arguments but 3 were given\n",
      "\n",
      "  warnings.warn(\n",
      "C:\\Users\\05-16\\anaconda3\\lib\\site-packages\\sklearn\\model_selection\\_validation.py:770: UserWarning: Scoring failed. The score on this train-test partition for these parameters will be set to nan. Details: \n",
      "Traceback (most recent call last):\n",
      "  File \"C:\\Users\\05-16\\anaconda3\\lib\\site-packages\\sklearn\\model_selection\\_validation.py\", line 761, in _score\n",
      "    scores = scorer(estimator, X_test, y_test)\n",
      "TypeError: f1_score() takes 2 positional arguments but 3 were given\n",
      "\n",
      "  warnings.warn(\n",
      "C:\\Users\\05-16\\anaconda3\\lib\\site-packages\\sklearn\\model_selection\\_validation.py:770: UserWarning: Scoring failed. The score on this train-test partition for these parameters will be set to nan. Details: \n",
      "Traceback (most recent call last):\n",
      "  File \"C:\\Users\\05-16\\anaconda3\\lib\\site-packages\\sklearn\\model_selection\\_validation.py\", line 761, in _score\n",
      "    scores = scorer(estimator, X_test, y_test)\n",
      "TypeError: f1_score() takes 2 positional arguments but 3 were given\n",
      "\n",
      "  warnings.warn(\n",
      "C:\\Users\\05-16\\anaconda3\\lib\\site-packages\\sklearn\\model_selection\\_validation.py:770: UserWarning: Scoring failed. The score on this train-test partition for these parameters will be set to nan. Details: \n",
      "Traceback (most recent call last):\n",
      "  File \"C:\\Users\\05-16\\anaconda3\\lib\\site-packages\\sklearn\\model_selection\\_validation.py\", line 761, in _score\n",
      "    scores = scorer(estimator, X_test, y_test)\n",
      "TypeError: f1_score() takes 2 positional arguments but 3 were given\n",
      "\n",
      "  warnings.warn(\n",
      "C:\\Users\\05-16\\anaconda3\\lib\\site-packages\\sklearn\\model_selection\\_validation.py:770: UserWarning: Scoring failed. The score on this train-test partition for these parameters will be set to nan. Details: \n",
      "Traceback (most recent call last):\n",
      "  File \"C:\\Users\\05-16\\anaconda3\\lib\\site-packages\\sklearn\\model_selection\\_validation.py\", line 761, in _score\n",
      "    scores = scorer(estimator, X_test, y_test)\n",
      "TypeError: f1_score() takes 2 positional arguments but 3 were given\n",
      "\n",
      "  warnings.warn(\n",
      "C:\\Users\\05-16\\anaconda3\\lib\\site-packages\\sklearn\\model_selection\\_validation.py:770: UserWarning: Scoring failed. The score on this train-test partition for these parameters will be set to nan. Details: \n",
      "Traceback (most recent call last):\n",
      "  File \"C:\\Users\\05-16\\anaconda3\\lib\\site-packages\\sklearn\\model_selection\\_validation.py\", line 761, in _score\n",
      "    scores = scorer(estimator, X_test, y_test)\n",
      "TypeError: f1_score() takes 2 positional arguments but 3 were given\n",
      "\n",
      "  warnings.warn(\n",
      "C:\\Users\\05-16\\anaconda3\\lib\\site-packages\\sklearn\\model_selection\\_validation.py:770: UserWarning: Scoring failed. The score on this train-test partition for these parameters will be set to nan. Details: \n",
      "Traceback (most recent call last):\n",
      "  File \"C:\\Users\\05-16\\anaconda3\\lib\\site-packages\\sklearn\\model_selection\\_validation.py\", line 761, in _score\n",
      "    scores = scorer(estimator, X_test, y_test)\n",
      "TypeError: f1_score() takes 2 positional arguments but 3 were given\n",
      "\n",
      "  warnings.warn(\n",
      "C:\\Users\\05-16\\anaconda3\\lib\\site-packages\\sklearn\\model_selection\\_validation.py:770: UserWarning: Scoring failed. The score on this train-test partition for these parameters will be set to nan. Details: \n",
      "Traceback (most recent call last):\n",
      "  File \"C:\\Users\\05-16\\anaconda3\\lib\\site-packages\\sklearn\\model_selection\\_validation.py\", line 761, in _score\n",
      "    scores = scorer(estimator, X_test, y_test)\n",
      "TypeError: f1_score() takes 2 positional arguments but 3 were given\n",
      "\n",
      "  warnings.warn(\n",
      "C:\\Users\\05-16\\anaconda3\\lib\\site-packages\\sklearn\\model_selection\\_validation.py:770: UserWarning: Scoring failed. The score on this train-test partition for these parameters will be set to nan. Details: \n",
      "Traceback (most recent call last):\n",
      "  File \"C:\\Users\\05-16\\anaconda3\\lib\\site-packages\\sklearn\\model_selection\\_validation.py\", line 761, in _score\n",
      "    scores = scorer(estimator, X_test, y_test)\n",
      "TypeError: f1_score() takes 2 positional arguments but 3 were given\n",
      "\n",
      "  warnings.warn(\n",
      "C:\\Users\\05-16\\anaconda3\\lib\\site-packages\\sklearn\\model_selection\\_validation.py:770: UserWarning: Scoring failed. The score on this train-test partition for these parameters will be set to nan. Details: \n",
      "Traceback (most recent call last):\n",
      "  File \"C:\\Users\\05-16\\anaconda3\\lib\\site-packages\\sklearn\\model_selection\\_validation.py\", line 761, in _score\n",
      "    scores = scorer(estimator, X_test, y_test)\n",
      "TypeError: f1_score() takes 2 positional arguments but 3 were given\n",
      "\n",
      "  warnings.warn(\n",
      "C:\\Users\\05-16\\anaconda3\\lib\\site-packages\\sklearn\\model_selection\\_validation.py:770: UserWarning: Scoring failed. The score on this train-test partition for these parameters will be set to nan. Details: \n",
      "Traceback (most recent call last):\n",
      "  File \"C:\\Users\\05-16\\anaconda3\\lib\\site-packages\\sklearn\\model_selection\\_validation.py\", line 761, in _score\n",
      "    scores = scorer(estimator, X_test, y_test)\n",
      "TypeError: f1_score() takes 2 positional arguments but 3 were given\n",
      "\n",
      "  warnings.warn(\n",
      "C:\\Users\\05-16\\anaconda3\\lib\\site-packages\\sklearn\\model_selection\\_validation.py:770: UserWarning: Scoring failed. The score on this train-test partition for these parameters will be set to nan. Details: \n",
      "Traceback (most recent call last):\n",
      "  File \"C:\\Users\\05-16\\anaconda3\\lib\\site-packages\\sklearn\\model_selection\\_validation.py\", line 761, in _score\n",
      "    scores = scorer(estimator, X_test, y_test)\n",
      "TypeError: f1_score() takes 2 positional arguments but 3 were given\n",
      "\n",
      "  warnings.warn(\n",
      "C:\\Users\\05-16\\anaconda3\\lib\\site-packages\\sklearn\\model_selection\\_validation.py:770: UserWarning: Scoring failed. The score on this train-test partition for these parameters will be set to nan. Details: \n",
      "Traceback (most recent call last):\n",
      "  File \"C:\\Users\\05-16\\anaconda3\\lib\\site-packages\\sklearn\\model_selection\\_validation.py\", line 761, in _score\n",
      "    scores = scorer(estimator, X_test, y_test)\n",
      "TypeError: f1_score() takes 2 positional arguments but 3 were given\n",
      "\n",
      "  warnings.warn(\n",
      "C:\\Users\\05-16\\anaconda3\\lib\\site-packages\\sklearn\\model_selection\\_validation.py:770: UserWarning: Scoring failed. The score on this train-test partition for these parameters will be set to nan. Details: \n",
      "Traceback (most recent call last):\n",
      "  File \"C:\\Users\\05-16\\anaconda3\\lib\\site-packages\\sklearn\\model_selection\\_validation.py\", line 761, in _score\n",
      "    scores = scorer(estimator, X_test, y_test)\n",
      "TypeError: f1_score() takes 2 positional arguments but 3 were given\n",
      "\n",
      "  warnings.warn(\n",
      "C:\\Users\\05-16\\anaconda3\\lib\\site-packages\\sklearn\\model_selection\\_validation.py:770: UserWarning: Scoring failed. The score on this train-test partition for these parameters will be set to nan. Details: \n",
      "Traceback (most recent call last):\n",
      "  File \"C:\\Users\\05-16\\anaconda3\\lib\\site-packages\\sklearn\\model_selection\\_validation.py\", line 761, in _score\n",
      "    scores = scorer(estimator, X_test, y_test)\n",
      "TypeError: f1_score() takes 2 positional arguments but 3 were given\n",
      "\n",
      "  warnings.warn(\n",
      "C:\\Users\\05-16\\anaconda3\\lib\\site-packages\\sklearn\\model_selection\\_validation.py:770: UserWarning: Scoring failed. The score on this train-test partition for these parameters will be set to nan. Details: \n",
      "Traceback (most recent call last):\n",
      "  File \"C:\\Users\\05-16\\anaconda3\\lib\\site-packages\\sklearn\\model_selection\\_validation.py\", line 761, in _score\n",
      "    scores = scorer(estimator, X_test, y_test)\n",
      "TypeError: f1_score() takes 2 positional arguments but 3 were given\n",
      "\n",
      "  warnings.warn(\n",
      "C:\\Users\\05-16\\anaconda3\\lib\\site-packages\\sklearn\\model_selection\\_validation.py:770: UserWarning: Scoring failed. The score on this train-test partition for these parameters will be set to nan. Details: \n",
      "Traceback (most recent call last):\n",
      "  File \"C:\\Users\\05-16\\anaconda3\\lib\\site-packages\\sklearn\\model_selection\\_validation.py\", line 761, in _score\n",
      "    scores = scorer(estimator, X_test, y_test)\n",
      "TypeError: f1_score() takes 2 positional arguments but 3 were given\n",
      "\n",
      "  warnings.warn(\n",
      "C:\\Users\\05-16\\anaconda3\\lib\\site-packages\\sklearn\\model_selection\\_validation.py:770: UserWarning: Scoring failed. The score on this train-test partition for these parameters will be set to nan. Details: \n",
      "Traceback (most recent call last):\n",
      "  File \"C:\\Users\\05-16\\anaconda3\\lib\\site-packages\\sklearn\\model_selection\\_validation.py\", line 761, in _score\n",
      "    scores = scorer(estimator, X_test, y_test)\n",
      "TypeError: f1_score() takes 2 positional arguments but 3 were given\n",
      "\n",
      "  warnings.warn(\n",
      "C:\\Users\\05-16\\anaconda3\\lib\\site-packages\\sklearn\\model_selection\\_validation.py:770: UserWarning: Scoring failed. The score on this train-test partition for these parameters will be set to nan. Details: \n",
      "Traceback (most recent call last):\n",
      "  File \"C:\\Users\\05-16\\anaconda3\\lib\\site-packages\\sklearn\\model_selection\\_validation.py\", line 761, in _score\n",
      "    scores = scorer(estimator, X_test, y_test)\n",
      "TypeError: f1_score() takes 2 positional arguments but 3 were given\n",
      "\n",
      "  warnings.warn(\n",
      "C:\\Users\\05-16\\anaconda3\\lib\\site-packages\\sklearn\\model_selection\\_validation.py:770: UserWarning: Scoring failed. The score on this train-test partition for these parameters will be set to nan. Details: \n",
      "Traceback (most recent call last):\n",
      "  File \"C:\\Users\\05-16\\anaconda3\\lib\\site-packages\\sklearn\\model_selection\\_validation.py\", line 761, in _score\n",
      "    scores = scorer(estimator, X_test, y_test)\n",
      "TypeError: f1_score() takes 2 positional arguments but 3 were given\n",
      "\n",
      "  warnings.warn(\n",
      "C:\\Users\\05-16\\anaconda3\\lib\\site-packages\\sklearn\\model_selection\\_validation.py:770: UserWarning: Scoring failed. The score on this train-test partition for these parameters will be set to nan. Details: \n",
      "Traceback (most recent call last):\n",
      "  File \"C:\\Users\\05-16\\anaconda3\\lib\\site-packages\\sklearn\\model_selection\\_validation.py\", line 761, in _score\n",
      "    scores = scorer(estimator, X_test, y_test)\n",
      "TypeError: f1_score() takes 2 positional arguments but 3 were given\n",
      "\n",
      "  warnings.warn(\n",
      "C:\\Users\\05-16\\anaconda3\\lib\\site-packages\\sklearn\\model_selection\\_validation.py:770: UserWarning: Scoring failed. The score on this train-test partition for these parameters will be set to nan. Details: \n",
      "Traceback (most recent call last):\n",
      "  File \"C:\\Users\\05-16\\anaconda3\\lib\\site-packages\\sklearn\\model_selection\\_validation.py\", line 761, in _score\n",
      "    scores = scorer(estimator, X_test, y_test)\n",
      "TypeError: f1_score() takes 2 positional arguments but 3 were given\n",
      "\n",
      "  warnings.warn(\n",
      "C:\\Users\\05-16\\anaconda3\\lib\\site-packages\\sklearn\\model_selection\\_validation.py:770: UserWarning: Scoring failed. The score on this train-test partition for these parameters will be set to nan. Details: \n",
      "Traceback (most recent call last):\n",
      "  File \"C:\\Users\\05-16\\anaconda3\\lib\\site-packages\\sklearn\\model_selection\\_validation.py\", line 761, in _score\n",
      "    scores = scorer(estimator, X_test, y_test)\n",
      "TypeError: f1_score() takes 2 positional arguments but 3 were given\n",
      "\n",
      "  warnings.warn(\n",
      "C:\\Users\\05-16\\anaconda3\\lib\\site-packages\\sklearn\\model_selection\\_validation.py:770: UserWarning: Scoring failed. The score on this train-test partition for these parameters will be set to nan. Details: \n",
      "Traceback (most recent call last):\n",
      "  File \"C:\\Users\\05-16\\anaconda3\\lib\\site-packages\\sklearn\\model_selection\\_validation.py\", line 761, in _score\n",
      "    scores = scorer(estimator, X_test, y_test)\n",
      "TypeError: f1_score() takes 2 positional arguments but 3 were given\n",
      "\n",
      "  warnings.warn(\n",
      "C:\\Users\\05-16\\anaconda3\\lib\\site-packages\\sklearn\\model_selection\\_validation.py:770: UserWarning: Scoring failed. The score on this train-test partition for these parameters will be set to nan. Details: \n",
      "Traceback (most recent call last):\n",
      "  File \"C:\\Users\\05-16\\anaconda3\\lib\\site-packages\\sklearn\\model_selection\\_validation.py\", line 761, in _score\n",
      "    scores = scorer(estimator, X_test, y_test)\n",
      "TypeError: f1_score() takes 2 positional arguments but 3 were given\n",
      "\n",
      "  warnings.warn(\n",
      "C:\\Users\\05-16\\anaconda3\\lib\\site-packages\\sklearn\\model_selection\\_validation.py:770: UserWarning: Scoring failed. The score on this train-test partition for these parameters will be set to nan. Details: \n",
      "Traceback (most recent call last):\n",
      "  File \"C:\\Users\\05-16\\anaconda3\\lib\\site-packages\\sklearn\\model_selection\\_validation.py\", line 761, in _score\n",
      "    scores = scorer(estimator, X_test, y_test)\n",
      "TypeError: f1_score() takes 2 positional arguments but 3 were given\n",
      "\n",
      "  warnings.warn(\n",
      "C:\\Users\\05-16\\anaconda3\\lib\\site-packages\\sklearn\\model_selection\\_validation.py:770: UserWarning: Scoring failed. The score on this train-test partition for these parameters will be set to nan. Details: \n",
      "Traceback (most recent call last):\n",
      "  File \"C:\\Users\\05-16\\anaconda3\\lib\\site-packages\\sklearn\\model_selection\\_validation.py\", line 761, in _score\n",
      "    scores = scorer(estimator, X_test, y_test)\n",
      "TypeError: f1_score() takes 2 positional arguments but 3 were given\n",
      "\n",
      "  warnings.warn(\n",
      "C:\\Users\\05-16\\anaconda3\\lib\\site-packages\\sklearn\\model_selection\\_validation.py:770: UserWarning: Scoring failed. The score on this train-test partition for these parameters will be set to nan. Details: \n",
      "Traceback (most recent call last):\n",
      "  File \"C:\\Users\\05-16\\anaconda3\\lib\\site-packages\\sklearn\\model_selection\\_validation.py\", line 761, in _score\n",
      "    scores = scorer(estimator, X_test, y_test)\n",
      "TypeError: f1_score() takes 2 positional arguments but 3 were given\n",
      "\n",
      "  warnings.warn(\n",
      "C:\\Users\\05-16\\anaconda3\\lib\\site-packages\\sklearn\\model_selection\\_validation.py:770: UserWarning: Scoring failed. The score on this train-test partition for these parameters will be set to nan. Details: \n",
      "Traceback (most recent call last):\n",
      "  File \"C:\\Users\\05-16\\anaconda3\\lib\\site-packages\\sklearn\\model_selection\\_validation.py\", line 761, in _score\n",
      "    scores = scorer(estimator, X_test, y_test)\n",
      "TypeError: f1_score() takes 2 positional arguments but 3 were given\n",
      "\n",
      "  warnings.warn(\n",
      "C:\\Users\\05-16\\anaconda3\\lib\\site-packages\\sklearn\\model_selection\\_validation.py:770: UserWarning: Scoring failed. The score on this train-test partition for these parameters will be set to nan. Details: \n",
      "Traceback (most recent call last):\n",
      "  File \"C:\\Users\\05-16\\anaconda3\\lib\\site-packages\\sklearn\\model_selection\\_validation.py\", line 761, in _score\n",
      "    scores = scorer(estimator, X_test, y_test)\n",
      "TypeError: f1_score() takes 2 positional arguments but 3 were given\n",
      "\n",
      "  warnings.warn(\n",
      "C:\\Users\\05-16\\anaconda3\\lib\\site-packages\\sklearn\\model_selection\\_validation.py:770: UserWarning: Scoring failed. The score on this train-test partition for these parameters will be set to nan. Details: \n",
      "Traceback (most recent call last):\n",
      "  File \"C:\\Users\\05-16\\anaconda3\\lib\\site-packages\\sklearn\\model_selection\\_validation.py\", line 761, in _score\n",
      "    scores = scorer(estimator, X_test, y_test)\n",
      "TypeError: f1_score() takes 2 positional arguments but 3 were given\n",
      "\n",
      "  warnings.warn(\n",
      "C:\\Users\\05-16\\anaconda3\\lib\\site-packages\\sklearn\\model_selection\\_validation.py:770: UserWarning: Scoring failed. The score on this train-test partition for these parameters will be set to nan. Details: \n",
      "Traceback (most recent call last):\n",
      "  File \"C:\\Users\\05-16\\anaconda3\\lib\\site-packages\\sklearn\\model_selection\\_validation.py\", line 761, in _score\n",
      "    scores = scorer(estimator, X_test, y_test)\n",
      "TypeError: f1_score() takes 2 positional arguments but 3 were given\n",
      "\n",
      "  warnings.warn(\n",
      "C:\\Users\\05-16\\anaconda3\\lib\\site-packages\\sklearn\\model_selection\\_validation.py:770: UserWarning: Scoring failed. The score on this train-test partition for these parameters will be set to nan. Details: \n",
      "Traceback (most recent call last):\n",
      "  File \"C:\\Users\\05-16\\anaconda3\\lib\\site-packages\\sklearn\\model_selection\\_validation.py\", line 761, in _score\n",
      "    scores = scorer(estimator, X_test, y_test)\n",
      "TypeError: f1_score() takes 2 positional arguments but 3 were given\n",
      "\n",
      "  warnings.warn(\n",
      "C:\\Users\\05-16\\anaconda3\\lib\\site-packages\\sklearn\\model_selection\\_validation.py:770: UserWarning: Scoring failed. The score on this train-test partition for these parameters will be set to nan. Details: \n",
      "Traceback (most recent call last):\n",
      "  File \"C:\\Users\\05-16\\anaconda3\\lib\\site-packages\\sklearn\\model_selection\\_validation.py\", line 761, in _score\n",
      "    scores = scorer(estimator, X_test, y_test)\n",
      "TypeError: f1_score() takes 2 positional arguments but 3 were given\n",
      "\n",
      "  warnings.warn(\n",
      "C:\\Users\\05-16\\anaconda3\\lib\\site-packages\\sklearn\\model_selection\\_validation.py:770: UserWarning: Scoring failed. The score on this train-test partition for these parameters will be set to nan. Details: \n",
      "Traceback (most recent call last):\n",
      "  File \"C:\\Users\\05-16\\anaconda3\\lib\\site-packages\\sklearn\\model_selection\\_validation.py\", line 761, in _score\n",
      "    scores = scorer(estimator, X_test, y_test)\n",
      "TypeError: f1_score() takes 2 positional arguments but 3 were given\n",
      "\n",
      "  warnings.warn(\n",
      "C:\\Users\\05-16\\anaconda3\\lib\\site-packages\\sklearn\\model_selection\\_validation.py:770: UserWarning: Scoring failed. The score on this train-test partition for these parameters will be set to nan. Details: \n",
      "Traceback (most recent call last):\n",
      "  File \"C:\\Users\\05-16\\anaconda3\\lib\\site-packages\\sklearn\\model_selection\\_validation.py\", line 761, in _score\n",
      "    scores = scorer(estimator, X_test, y_test)\n",
      "TypeError: f1_score() takes 2 positional arguments but 3 were given\n",
      "\n",
      "  warnings.warn(\n",
      "C:\\Users\\05-16\\anaconda3\\lib\\site-packages\\sklearn\\model_selection\\_validation.py:770: UserWarning: Scoring failed. The score on this train-test partition for these parameters will be set to nan. Details: \n",
      "Traceback (most recent call last):\n",
      "  File \"C:\\Users\\05-16\\anaconda3\\lib\\site-packages\\sklearn\\model_selection\\_validation.py\", line 761, in _score\n",
      "    scores = scorer(estimator, X_test, y_test)\n",
      "TypeError: f1_score() takes 2 positional arguments but 3 were given\n",
      "\n",
      "  warnings.warn(\n",
      "C:\\Users\\05-16\\anaconda3\\lib\\site-packages\\sklearn\\model_selection\\_validation.py:770: UserWarning: Scoring failed. The score on this train-test partition for these parameters will be set to nan. Details: \n",
      "Traceback (most recent call last):\n",
      "  File \"C:\\Users\\05-16\\anaconda3\\lib\\site-packages\\sklearn\\model_selection\\_validation.py\", line 761, in _score\n",
      "    scores = scorer(estimator, X_test, y_test)\n",
      "TypeError: f1_score() takes 2 positional arguments but 3 were given\n",
      "\n",
      "  warnings.warn(\n",
      "C:\\Users\\05-16\\anaconda3\\lib\\site-packages\\sklearn\\model_selection\\_validation.py:770: UserWarning: Scoring failed. The score on this train-test partition for these parameters will be set to nan. Details: \n",
      "Traceback (most recent call last):\n",
      "  File \"C:\\Users\\05-16\\anaconda3\\lib\\site-packages\\sklearn\\model_selection\\_validation.py\", line 761, in _score\n",
      "    scores = scorer(estimator, X_test, y_test)\n",
      "TypeError: f1_score() takes 2 positional arguments but 3 were given\n",
      "\n",
      "  warnings.warn(\n",
      "C:\\Users\\05-16\\anaconda3\\lib\\site-packages\\sklearn\\model_selection\\_validation.py:770: UserWarning: Scoring failed. The score on this train-test partition for these parameters will be set to nan. Details: \n",
      "Traceback (most recent call last):\n",
      "  File \"C:\\Users\\05-16\\anaconda3\\lib\\site-packages\\sklearn\\model_selection\\_validation.py\", line 761, in _score\n",
      "    scores = scorer(estimator, X_test, y_test)\n",
      "TypeError: f1_score() takes 2 positional arguments but 3 were given\n",
      "\n",
      "  warnings.warn(\n",
      "C:\\Users\\05-16\\anaconda3\\lib\\site-packages\\sklearn\\model_selection\\_validation.py:770: UserWarning: Scoring failed. The score on this train-test partition for these parameters will be set to nan. Details: \n",
      "Traceback (most recent call last):\n",
      "  File \"C:\\Users\\05-16\\anaconda3\\lib\\site-packages\\sklearn\\model_selection\\_validation.py\", line 761, in _score\n",
      "    scores = scorer(estimator, X_test, y_test)\n",
      "TypeError: f1_score() takes 2 positional arguments but 3 were given\n",
      "\n",
      "  warnings.warn(\n",
      "C:\\Users\\05-16\\anaconda3\\lib\\site-packages\\sklearn\\model_selection\\_validation.py:770: UserWarning: Scoring failed. The score on this train-test partition for these parameters will be set to nan. Details: \n",
      "Traceback (most recent call last):\n",
      "  File \"C:\\Users\\05-16\\anaconda3\\lib\\site-packages\\sklearn\\model_selection\\_validation.py\", line 761, in _score\n",
      "    scores = scorer(estimator, X_test, y_test)\n",
      "TypeError: f1_score() takes 2 positional arguments but 3 were given\n",
      "\n",
      "  warnings.warn(\n",
      "C:\\Users\\05-16\\anaconda3\\lib\\site-packages\\sklearn\\model_selection\\_validation.py:770: UserWarning: Scoring failed. The score on this train-test partition for these parameters will be set to nan. Details: \n",
      "Traceback (most recent call last):\n",
      "  File \"C:\\Users\\05-16\\anaconda3\\lib\\site-packages\\sklearn\\model_selection\\_validation.py\", line 761, in _score\n",
      "    scores = scorer(estimator, X_test, y_test)\n",
      "TypeError: f1_score() takes 2 positional arguments but 3 were given\n",
      "\n",
      "  warnings.warn(\n",
      "C:\\Users\\05-16\\anaconda3\\lib\\site-packages\\sklearn\\model_selection\\_validation.py:770: UserWarning: Scoring failed. The score on this train-test partition for these parameters will be set to nan. Details: \n",
      "Traceback (most recent call last):\n",
      "  File \"C:\\Users\\05-16\\anaconda3\\lib\\site-packages\\sklearn\\model_selection\\_validation.py\", line 761, in _score\n",
      "    scores = scorer(estimator, X_test, y_test)\n",
      "TypeError: f1_score() takes 2 positional arguments but 3 were given\n",
      "\n",
      "  warnings.warn(\n",
      "C:\\Users\\05-16\\anaconda3\\lib\\site-packages\\sklearn\\model_selection\\_validation.py:770: UserWarning: Scoring failed. The score on this train-test partition for these parameters will be set to nan. Details: \n",
      "Traceback (most recent call last):\n",
      "  File \"C:\\Users\\05-16\\anaconda3\\lib\\site-packages\\sklearn\\model_selection\\_validation.py\", line 761, in _score\n",
      "    scores = scorer(estimator, X_test, y_test)\n",
      "TypeError: f1_score() takes 2 positional arguments but 3 were given\n",
      "\n",
      "  warnings.warn(\n",
      "C:\\Users\\05-16\\anaconda3\\lib\\site-packages\\sklearn\\model_selection\\_validation.py:770: UserWarning: Scoring failed. The score on this train-test partition for these parameters will be set to nan. Details: \n",
      "Traceback (most recent call last):\n",
      "  File \"C:\\Users\\05-16\\anaconda3\\lib\\site-packages\\sklearn\\model_selection\\_validation.py\", line 761, in _score\n",
      "    scores = scorer(estimator, X_test, y_test)\n",
      "TypeError: f1_score() takes 2 positional arguments but 3 were given\n",
      "\n",
      "  warnings.warn(\n",
      "C:\\Users\\05-16\\anaconda3\\lib\\site-packages\\sklearn\\model_selection\\_validation.py:770: UserWarning: Scoring failed. The score on this train-test partition for these parameters will be set to nan. Details: \n",
      "Traceback (most recent call last):\n",
      "  File \"C:\\Users\\05-16\\anaconda3\\lib\\site-packages\\sklearn\\model_selection\\_validation.py\", line 761, in _score\n",
      "    scores = scorer(estimator, X_test, y_test)\n",
      "TypeError: f1_score() takes 2 positional arguments but 3 were given\n",
      "\n",
      "  warnings.warn(\n",
      "C:\\Users\\05-16\\anaconda3\\lib\\site-packages\\sklearn\\model_selection\\_validation.py:770: UserWarning: Scoring failed. The score on this train-test partition for these parameters will be set to nan. Details: \n",
      "Traceback (most recent call last):\n",
      "  File \"C:\\Users\\05-16\\anaconda3\\lib\\site-packages\\sklearn\\model_selection\\_validation.py\", line 761, in _score\n",
      "    scores = scorer(estimator, X_test, y_test)\n",
      "TypeError: f1_score() takes 2 positional arguments but 3 were given\n",
      "\n",
      "  warnings.warn(\n",
      "C:\\Users\\05-16\\anaconda3\\lib\\site-packages\\sklearn\\model_selection\\_validation.py:770: UserWarning: Scoring failed. The score on this train-test partition for these parameters will be set to nan. Details: \n",
      "Traceback (most recent call last):\n",
      "  File \"C:\\Users\\05-16\\anaconda3\\lib\\site-packages\\sklearn\\model_selection\\_validation.py\", line 761, in _score\n",
      "    scores = scorer(estimator, X_test, y_test)\n",
      "TypeError: f1_score() takes 2 positional arguments but 3 were given\n",
      "\n",
      "  warnings.warn(\n",
      "C:\\Users\\05-16\\anaconda3\\lib\\site-packages\\sklearn\\model_selection\\_search.py:969: UserWarning: One or more of the test scores are non-finite: [nan nan nan nan nan nan nan nan nan nan nan nan nan nan nan nan nan nan\n",
      " nan nan nan nan nan nan nan nan nan]\n",
      "  warnings.warn(\n"
     ]
    },
    {
     "data": {
      "text/plain": [
       "GridSearchCV(cv=2, estimator=DecisionTreeClassifier(),\n",
       "             param_grid={'max_depth': range(2, 5),\n",
       "                         'min_samples_leaf': range(2, 5),\n",
       "                         'min_samples_split': range(2, 5)},\n",
       "             scoring=<function f1_score at 0x000002684B8E2670>, verbose=1)"
      ]
     },
     "execution_count": 70,
     "metadata": {},
     "output_type": "execute_result"
    }
   ],
   "source": [
    "# grid_search.fit(features_train, target_train)\n",
    "grid_search.fit(features, target)"
   ]
  },
  {
   "cell_type": "code",
   "execution_count": 71,
   "id": "7fd30e8c-5c6c-4e9f-8ae3-0072b71c9a1d",
   "metadata": {},
   "outputs": [
    {
     "data": {
      "text/plain": [
       "DecisionTreeClassifier(max_depth=2, min_samples_leaf=2)"
      ]
     },
     "execution_count": 71,
     "metadata": {},
     "output_type": "execute_result"
    }
   ],
   "source": [
    "grid_search.best_estimator_"
   ]
  },
  {
   "cell_type": "code",
   "execution_count": 72,
   "id": "d8cf3cf4-3fa4-45ad-a221-423661c39883",
   "metadata": {},
   "outputs": [
    {
     "data": {
      "text/plain": [
       "(nan, {'max_depth': 2, 'min_samples_leaf': 2, 'min_samples_split': 2})"
      ]
     },
     "execution_count": 72,
     "metadata": {},
     "output_type": "execute_result"
    }
   ],
   "source": [
    "grid_search.best_score_, grid_search.best_params_"
   ]
  },
  {
   "cell_type": "code",
   "execution_count": 52,
   "id": "6d297c62-864b-4430-9a0d-c4a262ca2f84",
   "metadata": {},
   "outputs": [
    {
     "data": {
      "text/plain": [
       "DecisionTreeClassifier(max_depth=9, min_samples_leaf=7, min_samples_split=5)"
      ]
     },
     "execution_count": 52,
     "metadata": {},
     "output_type": "execute_result"
    }
   ],
   "source": [
    "best_model = grid_search.best_estimator_\n",
    "best_model"
   ]
  },
  {
   "cell_type": "code",
   "execution_count": 53,
   "id": "174742b4-ee81-405e-bbc2-2be5ff050477",
   "metadata": {
    "collapsed": true,
    "jupyter": {
     "outputs_hidden": true
    },
    "tags": []
   },
   "outputs": [
    {
     "data": {
      "text/plain": [
       "array([ 0,  0,  8,  0,  5,  6,  6,  3, 55,  3, 11,  1, 21,  1,  1,  0,  3,\n",
       "        7,  5,  3,  1,  1, 16,  8, 16,  0,  3,  0,  0,  3,  1, 42,  3,  0,\n",
       "       21, 42,  0,  2, 55, 21,  0,  7,  0,  1, 59,  0,  2, 37, 59,  0,  3,\n",
       "        5,  2,  1,  1, 59, 55,  3, 42,  3,  9,  6,  4, 18,  0,  0,  1, 59,\n",
       "        7,  7,  1,  7,  0,  0,  1, 11,  3,  7, 11, 11,  7,  1,  3,  0, 27,\n",
       "       21,  1, 37,  1,  2, 55,  6, 11, 55,  3,  0,  4,  8,  0,  1,  0,  1,\n",
       "        3,  0,  8,  2,  3,  5,  0,  3,  0, 32,  7,  4,  7, 18, 18,  6, 37,\n",
       "        0,  3, 42,  6,  0, 18,  3,  5,  0, 15,  8,  3,  1,  2,  0,  1, 55,\n",
       "       42,  0,  0, 18,  1, 42, 55,  3,  1,  3,  6,  2,  0,  7,  0,  0, 42,\n",
       "        7,  2,  3,  3,  8,  8,  7,  3,  3,  0,  0,  2,  5,  6,  2,  0,  3,\n",
       "        5,  1,  9,  1, 16,  0,  3,  1,  2,  3,  2, 16, 27,  6,  1,  3,  0,\n",
       "        0, 15,  0,  1, 19,  0,  2,  1,  0,  8,  6,  6, 11, 16, 55,  0,  0,\n",
       "       37,  0, 55,  3,  3,  0,  7,  8,  3,  0,  6,  0,  0,  2,  0,  1,  7,\n",
       "       32,  3,  0,  0], dtype=int64)"
      ]
     },
     "execution_count": 53,
     "metadata": {},
     "output_type": "execute_result"
    }
   ],
   "source": [
    "target_test_predict = best_model.predict(features_test)\n",
    "target_test_predict"
   ]
  },
  {
   "cell_type": "code",
   "execution_count": 54,
   "id": "889f9e9e-ebd0-4bc8-93a5-dd625e37fb0b",
   "metadata": {},
   "outputs": [],
   "source": [
    "from sklearn.metrics import classification_report"
   ]
  },
  {
   "cell_type": "code",
   "execution_count": 55,
   "id": "e8e1b89a-7788-43af-8809-3fda7e7c54b3",
   "metadata": {},
   "outputs": [
    {
     "name": "stdout",
     "output_type": "stream",
     "text": [
      "              precision    recall  f1-score   support\n",
      "\n",
      "           0       0.12      0.27      0.16        22\n",
      "           1       0.14      0.27      0.19        15\n",
      "           2       0.43      0.50      0.46        12\n",
      "           3       0.00      0.00      0.00         7\n",
      "           4       0.33      0.09      0.14        11\n",
      "           5       0.86      0.67      0.75         9\n",
      "           6       0.00      0.00      0.00         6\n",
      "           7       0.43      1.00      0.60         6\n",
      "           8       0.11      0.17      0.13         6\n",
      "           9       0.00      0.00      0.00         1\n",
      "          10       0.00      0.00      0.00         4\n",
      "          11       0.17      0.20      0.18         5\n",
      "          12       0.00      0.00      0.00         4\n",
      "          13       0.00      0.00      0.00         1\n",
      "          14       0.00      0.00      0.00         5\n",
      "          15       0.00      0.00      0.00         0\n",
      "          16       0.60      1.00      0.75         3\n",
      "          17       0.00      0.00      0.00         5\n",
      "          18       0.80      1.00      0.89         4\n",
      "          19       0.00      0.00      0.00         1\n",
      "          20       0.00      0.00      0.00         3\n",
      "          21       0.00      0.00      0.00         3\n",
      "          22       0.00      0.00      0.00         2\n",
      "          23       0.00      0.00      0.00         2\n",
      "          24       0.00      0.00      0.00         3\n",
      "          25       0.00      0.00      0.00         2\n",
      "          26       0.00      0.00      0.00         3\n",
      "          27       0.00      0.00      0.00         1\n",
      "          29       0.00      0.00      0.00         2\n",
      "          30       0.00      0.00      0.00         1\n",
      "          31       0.00      0.00      0.00         1\n",
      "          32       1.00      1.00      1.00         2\n",
      "          33       0.00      0.00      0.00         1\n",
      "          34       0.00      0.00      0.00         2\n",
      "          35       0.00      0.00      0.00         2\n",
      "          37       0.75      1.00      0.86         3\n",
      "          38       0.00      0.00      0.00         2\n",
      "          39       0.00      0.00      0.00         3\n",
      "          40       0.00      0.00      0.00         1\n",
      "          41       0.00      0.00      0.00         3\n",
      "          42       0.00      0.00      0.00         1\n",
      "          43       0.00      0.00      0.00         1\n",
      "          44       0.00      0.00      0.00         1\n",
      "          45       0.00      0.00      0.00         3\n",
      "          47       0.00      0.00      0.00         1\n",
      "          48       0.00      0.00      0.00         1\n",
      "          50       0.00      0.00      0.00         1\n",
      "          51       0.00      0.00      0.00         1\n",
      "          52       0.00      0.00      0.00         1\n",
      "          53       0.00      0.00      0.00         2\n",
      "          55       0.00      0.00      0.00         0\n",
      "          56       0.00      0.00      0.00         2\n",
      "          57       0.00      0.00      0.00         2\n",
      "          59       0.00      0.00      0.00         1\n",
      "          62       0.00      0.00      0.00         1\n",
      "          63       0.00      0.00      0.00         1\n",
      "          64       0.00      0.00      0.00         1\n",
      "          65       0.00      0.00      0.00         1\n",
      "          69       0.00      0.00      0.00         2\n",
      "          72       0.00      0.00      0.00         1\n",
      "          73       0.00      0.00      0.00         1\n",
      "          74       0.00      0.00      0.00         2\n",
      "          76       0.00      0.00      0.00         1\n",
      "          77       0.00      0.00      0.00         1\n",
      "          79       0.00      0.00      0.00         1\n",
      "          80       0.00      0.00      0.00         1\n",
      "          82       0.00      0.00      0.00         1\n",
      "          84       0.00      0.00      0.00         2\n",
      "          91       0.00      0.00      0.00         1\n",
      "          92       0.00      0.00      0.00         2\n",
      "          94       0.00      0.00      0.00         1\n",
      "          95       0.00      0.00      0.00         1\n",
      "          96       0.00      0.00      0.00         2\n",
      "          97       0.00      0.00      0.00         1\n",
      "         102       0.00      0.00      0.00         1\n",
      "         105       0.00      0.00      0.00         1\n",
      "         106       0.00      0.00      0.00         1\n",
      "         107       0.00      0.00      0.00         1\n",
      "         109       0.00      0.00      0.00         1\n",
      "         111       0.00      0.00      0.00         1\n",
      "         120       0.00      0.00      0.00         1\n",
      "         128       0.00      0.00      0.00         1\n",
      "         133       0.00      0.00      0.00         1\n",
      "         141       0.00      0.00      0.00         1\n",
      "         144       0.00      0.00      0.00         1\n",
      "         148       0.00      0.00      0.00         1\n",
      "         150       0.00      0.00      0.00         1\n",
      "\n",
      "    accuracy                           0.19       225\n",
      "   macro avg       0.07      0.08      0.07       225\n",
      "weighted avg       0.15      0.19      0.16       225\n",
      "\n"
     ]
    },
    {
     "name": "stderr",
     "output_type": "stream",
     "text": [
      "C:\\Users\\05-16\\anaconda3\\lib\\site-packages\\sklearn\\metrics\\_classification.py:1318: UndefinedMetricWarning: Precision and F-score are ill-defined and being set to 0.0 in labels with no predicted samples. Use `zero_division` parameter to control this behavior.\n",
      "  _warn_prf(average, modifier, msg_start, len(result))\n",
      "C:\\Users\\05-16\\anaconda3\\lib\\site-packages\\sklearn\\metrics\\_classification.py:1318: UndefinedMetricWarning: Recall and F-score are ill-defined and being set to 0.0 in labels with no true samples. Use `zero_division` parameter to control this behavior.\n",
      "  _warn_prf(average, modifier, msg_start, len(result))\n",
      "C:\\Users\\05-16\\anaconda3\\lib\\site-packages\\sklearn\\metrics\\_classification.py:1318: UndefinedMetricWarning: Precision and F-score are ill-defined and being set to 0.0 in labels with no predicted samples. Use `zero_division` parameter to control this behavior.\n",
      "  _warn_prf(average, modifier, msg_start, len(result))\n",
      "C:\\Users\\05-16\\anaconda3\\lib\\site-packages\\sklearn\\metrics\\_classification.py:1318: UndefinedMetricWarning: Recall and F-score are ill-defined and being set to 0.0 in labels with no true samples. Use `zero_division` parameter to control this behavior.\n",
      "  _warn_prf(average, modifier, msg_start, len(result))\n",
      "C:\\Users\\05-16\\anaconda3\\lib\\site-packages\\sklearn\\metrics\\_classification.py:1318: UndefinedMetricWarning: Precision and F-score are ill-defined and being set to 0.0 in labels with no predicted samples. Use `zero_division` parameter to control this behavior.\n",
      "  _warn_prf(average, modifier, msg_start, len(result))\n",
      "C:\\Users\\05-16\\anaconda3\\lib\\site-packages\\sklearn\\metrics\\_classification.py:1318: UndefinedMetricWarning: Recall and F-score are ill-defined and being set to 0.0 in labels with no true samples. Use `zero_division` parameter to control this behavior.\n",
      "  _warn_prf(average, modifier, msg_start, len(result))\n"
     ]
    }
   ],
   "source": [
    "print(classification_report(target_test, target_test_predict))"
   ]
  },
  {
   "cell_type": "code",
   "execution_count": null,
   "id": "e071bf96-c170-410c-85e3-77c5dfe7eb60",
   "metadata": {},
   "outputs": [],
   "source": []
  }
 ],
 "metadata": {
  "kernelspec": {
   "display_name": "Python 3 (ipykernel)",
   "language": "python",
   "name": "python3"
  },
  "language_info": {
   "codemirror_mode": {
    "name": "ipython",
    "version": 3
   },
   "file_extension": ".py",
   "mimetype": "text/x-python",
   "name": "python",
   "nbconvert_exporter": "python",
   "pygments_lexer": "ipython3",
   "version": "3.9.13"
  }
 },
 "nbformat": 4,
 "nbformat_minor": 5
}
