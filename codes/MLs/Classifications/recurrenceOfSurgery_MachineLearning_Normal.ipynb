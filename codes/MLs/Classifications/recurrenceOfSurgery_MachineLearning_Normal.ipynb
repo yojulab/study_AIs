{
 "cells": [
  {
   "cell_type": "markdown",
   "metadata": {
    "id": "uURVjLuWVL_F"
   },
   "source": [
    "#### from blog : https://blog.naver.com/data_station/222493270368"
   ]
  },
  {
   "cell_type": "markdown",
   "metadata": {
    "id": "NAcwgY-7Y3zs"
   },
   "source": [
    "- 의료 보조 서비스\n",
    "- 수식화(모델링) 단계\n",
    "- 어떤 대상이 이 서비스(모델)를 사용할 것인가?\n",
    "- **어떤 설명변수를 선택하는가**\n",
    "- 의사를 대상으로 할 때\n",
    "- 환자를 대상으로 할 때\n"
   ]
  },
  {
   "cell_type": "markdown",
   "metadata": {
    "id": "UmlOZ_9mfvyu"
   },
   "source": [
    "### EDA"
   ]
  },
  {
   "cell_type": "code",
   "execution_count": 1,
   "metadata": {
    "colab": {
     "base_uri": "https://localhost:8080/",
     "height": 266
    },
    "executionInfo": {
     "elapsed": 293,
     "status": "ok",
     "timestamp": 1693811734017,
     "user": {
      "displayName": "sanghun oh",
      "userId": "06412681606171338922"
     },
     "user_tz": -540
    },
    "id": "Yt3UnXufT-Yo",
    "outputId": "8b89aadf-82ef-41f1-f004-05d8a1b799c2",
    "tags": []
   },
   "outputs": [
    {
     "name": "stdout",
     "output_type": "stream",
     "text": [
      "(1894, 52)\n"
     ]
    },
    {
     "data": {
      "text/html": [
       "<div>\n",
       "<style scoped>\n",
       "    .dataframe tbody tr th:only-of-type {\n",
       "        vertical-align: middle;\n",
       "    }\n",
       "\n",
       "    .dataframe tbody tr th {\n",
       "        vertical-align: top;\n",
       "    }\n",
       "\n",
       "    .dataframe thead th {\n",
       "        text-align: right;\n",
       "    }\n",
       "</style>\n",
       "<table border=\"1\" class=\"dataframe\">\n",
       "  <thead>\n",
       "    <tr style=\"text-align: right;\">\n",
       "      <th></th>\n",
       "      <th>Unnamed: 0</th>\n",
       "      <th>환자ID</th>\n",
       "      <th>Large Lymphocyte</th>\n",
       "      <th>Location of herniation</th>\n",
       "      <th>ODI</th>\n",
       "      <th>가족력</th>\n",
       "      <th>간질성폐질환</th>\n",
       "      <th>고혈압여부</th>\n",
       "      <th>과거수술횟수</th>\n",
       "      <th>당뇨여부</th>\n",
       "      <th>...</th>\n",
       "      <th>Modic change</th>\n",
       "      <th>PI</th>\n",
       "      <th>PT</th>\n",
       "      <th>Seg Angle(raw)</th>\n",
       "      <th>Vaccum disc</th>\n",
       "      <th>골밀도</th>\n",
       "      <th>디스크단면적</th>\n",
       "      <th>디스크위치</th>\n",
       "      <th>척추이동척도</th>\n",
       "      <th>척추전방위증</th>\n",
       "    </tr>\n",
       "  </thead>\n",
       "  <tbody>\n",
       "    <tr>\n",
       "      <th>0</th>\n",
       "      <td>0</td>\n",
       "      <td>1PT</td>\n",
       "      <td>22.8</td>\n",
       "      <td>3</td>\n",
       "      <td>51.0</td>\n",
       "      <td>0.0</td>\n",
       "      <td>0</td>\n",
       "      <td>0</td>\n",
       "      <td>0</td>\n",
       "      <td>0</td>\n",
       "      <td>...</td>\n",
       "      <td>3</td>\n",
       "      <td>51.6</td>\n",
       "      <td>36.6</td>\n",
       "      <td>14.4</td>\n",
       "      <td>0</td>\n",
       "      <td>-1.01</td>\n",
       "      <td>2048.5</td>\n",
       "      <td>4</td>\n",
       "      <td>Down</td>\n",
       "      <td>0</td>\n",
       "    </tr>\n",
       "    <tr>\n",
       "      <th>1</th>\n",
       "      <td>1</td>\n",
       "      <td>2PT</td>\n",
       "      <td>44.9</td>\n",
       "      <td>4</td>\n",
       "      <td>26.0</td>\n",
       "      <td>0.0</td>\n",
       "      <td>0</td>\n",
       "      <td>0</td>\n",
       "      <td>0</td>\n",
       "      <td>0</td>\n",
       "      <td>...</td>\n",
       "      <td>0</td>\n",
       "      <td>40.8</td>\n",
       "      <td>7.2</td>\n",
       "      <td>17.8</td>\n",
       "      <td>0</td>\n",
       "      <td>-1.14</td>\n",
       "      <td>1753.1</td>\n",
       "      <td>4</td>\n",
       "      <td>Up</td>\n",
       "      <td>0</td>\n",
       "    </tr>\n",
       "  </tbody>\n",
       "</table>\n",
       "<p>2 rows × 52 columns</p>\n",
       "</div>"
      ],
      "text/plain": [
       "   Unnamed: 0 환자ID  Large Lymphocyte  Location of herniation   ODI  가족력  \\\n",
       "0           0  1PT              22.8                       3  51.0  0.0   \n",
       "1           1  2PT              44.9                       4  26.0  0.0   \n",
       "\n",
       "   간질성폐질환  고혈압여부  과거수술횟수  당뇨여부  ...  Modic change    PI    PT  Seg Angle(raw)  \\\n",
       "0       0      0       0     0  ...             3  51.6  36.6            14.4   \n",
       "1       0      0       0     0  ...             0  40.8   7.2            17.8   \n",
       "\n",
       "   Vaccum disc   골밀도  디스크단면적  디스크위치  척추이동척도  척추전방위증  \n",
       "0            0 -1.01  2048.5      4    Down       0  \n",
       "1            0 -1.14  1753.1      4      Up       0  \n",
       "\n",
       "[2 rows x 52 columns]"
      ]
     },
     "execution_count": 1,
     "metadata": {},
     "output_type": "execute_result"
    }
   ],
   "source": [
    "import pandas as pd\n",
    "df1 = pd.read_csv('../../../datasets/recurrenceOfSurgery.csv')\n",
    "print(df1.shape)\n",
    "df1.head(2)\n"
   ]
  },
  {
   "cell_type": "code",
   "execution_count": 2,
   "metadata": {
    "colab": {
     "base_uri": "https://localhost:8080/"
    },
    "executionInfo": {
     "elapsed": 6,
     "status": "ok",
     "timestamp": 1693811734343,
     "user": {
      "displayName": "sanghun oh",
      "userId": "06412681606171338922"
     },
     "user_tz": -540
    },
    "id": "JNt2hANtZNXO",
    "outputId": "3972fbb0-baaf-4248-b451-b3d53bf3675e"
   },
   "outputs": [
    {
     "name": "stdout",
     "output_type": "stream",
     "text": [
      "<class 'pandas.core.frame.DataFrame'>\n",
      "RangeIndex: 1894 entries, 0 to 1893\n",
      "Data columns (total 52 columns):\n",
      " #   Column                  Non-Null Count  Dtype  \n",
      "---  ------                  --------------  -----  \n",
      " 0   Unnamed: 0              1894 non-null   int64  \n",
      " 1   환자ID                    1894 non-null   object \n",
      " 2   Large Lymphocyte        1894 non-null   float64\n",
      " 3   Location of herniation  1894 non-null   int64  \n",
      " 4   ODI                     462 non-null    float64\n",
      " 5   가족력                     1843 non-null   float64\n",
      " 6   간질성폐질환                  1894 non-null   int64  \n",
      " 7   고혈압여부                   1894 non-null   int64  \n",
      " 8   과거수술횟수                  1894 non-null   int64  \n",
      " 9   당뇨여부                    1894 non-null   int64  \n",
      " 10  말초동맥질환여부                1894 non-null   int64  \n",
      " 11  빈혈여부                    1894 non-null   int64  \n",
      " 12  성별                      1894 non-null   int64  \n",
      " 13  스테로이드치료                 1894 non-null   int64  \n",
      " 14  신부전여부                   1894 non-null   int64  \n",
      " 15  신장                      1894 non-null   int64  \n",
      " 16  심혈관질환                   1894 non-null   int64  \n",
      " 17  암발병여부                   1894 non-null   int64  \n",
      " 18  연령                      1894 non-null   int64  \n",
      " 19  우울증여부                   1894 non-null   int64  \n",
      " 20  입원기간                    1894 non-null   int64  \n",
      " 21  입원일자                    1894 non-null   int64  \n",
      " 22  종양진행여부                  1894 non-null   int64  \n",
      " 23  직업                      1479 non-null   object \n",
      " 24  체중                      1894 non-null   float64\n",
      " 25  퇴원일자                    1894 non-null   int64  \n",
      " 26  헤모글로빈수치                 1893 non-null   float64\n",
      " 27  혈전합병증여부                 1894 non-null   int64  \n",
      " 28  환자통증정도                  1894 non-null   int64  \n",
      " 29  흡연여부                    1894 non-null   int64  \n",
      " 30  통증기간(월)                 1890 non-null   float64\n",
      " 31  수술기법                    1813 non-null   object \n",
      " 32  수술시간                    1840 non-null   float64\n",
      " 33  수술실패여부                  1894 non-null   int64  \n",
      " 34  수술일자                    1894 non-null   int64  \n",
      " 35  재발여부                    1894 non-null   int64  \n",
      " 36  혈액형                     1894 non-null   object \n",
      " 37  전방디스크높이(mm)             1894 non-null   float64\n",
      " 38  후방디스크높이(mm)             1894 non-null   float64\n",
      " 39  지방축적도                   1891 non-null   float64\n",
      " 40  Instability             1894 non-null   int64  \n",
      " 41  MF + ES                 1894 non-null   float64\n",
      " 42  Modic change            1894 non-null   int64  \n",
      " 43  PI                      1890 non-null   float64\n",
      " 44  PT                      1890 non-null   float64\n",
      " 45  Seg Angle(raw)          1893 non-null   float64\n",
      " 46  Vaccum disc             1894 non-null   int64  \n",
      " 47  골밀도                     998 non-null    float64\n",
      " 48  디스크단면적                  1893 non-null   float64\n",
      " 49  디스크위치                   1894 non-null   int64  \n",
      " 50  척추이동척도                  1894 non-null   object \n",
      " 51  척추전방위증                  1894 non-null   int64  \n",
      "dtypes: float64(16), int64(31), object(5)\n",
      "memory usage: 769.6+ KB\n"
     ]
    }
   ],
   "source": [
    "df1.info()\n"
   ]
  },
  {
   "cell_type": "code",
   "execution_count": 3,
   "metadata": {
    "colab": {
     "base_uri": "https://localhost:8080/"
    },
    "executionInfo": {
     "elapsed": 5,
     "status": "ok",
     "timestamp": 1693811734343,
     "user": {
      "displayName": "sanghun oh",
      "userId": "06412681606171338922"
     },
     "user_tz": -540
    },
    "id": "keaaZcmkZJUQ",
    "outputId": "3a3d207b-2aaf-4f45-f808-00f0971d3186"
   },
   "outputs": [
    {
     "data": {
      "text/plain": [
       "Unnamed: 0                   0\n",
       "환자ID                         0\n",
       "Large Lymphocyte             0\n",
       "Location of herniation       0\n",
       "ODI                       1432\n",
       "가족력                         51\n",
       "간질성폐질환                       0\n",
       "고혈압여부                        0\n",
       "과거수술횟수                       0\n",
       "당뇨여부                         0\n",
       "말초동맥질환여부                     0\n",
       "빈혈여부                         0\n",
       "성별                           0\n",
       "스테로이드치료                      0\n",
       "신부전여부                        0\n",
       "신장                           0\n",
       "심혈관질환                        0\n",
       "암발병여부                        0\n",
       "연령                           0\n",
       "우울증여부                        0\n",
       "입원기간                         0\n",
       "입원일자                         0\n",
       "종양진행여부                       0\n",
       "직업                         415\n",
       "체중                           0\n",
       "퇴원일자                         0\n",
       "헤모글로빈수치                      1\n",
       "혈전합병증여부                      0\n",
       "환자통증정도                       0\n",
       "흡연여부                         0\n",
       "통증기간(월)                      4\n",
       "수술기법                        81\n",
       "수술시간                        54\n",
       "수술실패여부                       0\n",
       "수술일자                         0\n",
       "재발여부                         0\n",
       "혈액형                          0\n",
       "전방디스크높이(mm)                  0\n",
       "후방디스크높이(mm)                  0\n",
       "지방축적도                        3\n",
       "Instability                  0\n",
       "MF + ES                      0\n",
       "Modic change                 0\n",
       "PI                           4\n",
       "PT                           4\n",
       "Seg Angle(raw)               1\n",
       "Vaccum disc                  0\n",
       "골밀도                        896\n",
       "디스크단면적                       1\n",
       "디스크위치                        0\n",
       "척추이동척도                       0\n",
       "척추전방위증                       0\n",
       "dtype: int64"
      ]
     },
     "execution_count": 3,
     "metadata": {},
     "output_type": "execute_result"
    }
   ],
   "source": [
    "df1.isnull().sum()"
   ]
  },
  {
   "cell_type": "code",
   "execution_count": 4,
   "metadata": {
    "colab": {
     "base_uri": "https://localhost:8080/"
    },
    "executionInfo": {
     "elapsed": 4,
     "status": "ok",
     "timestamp": 1693811734343,
     "user": {
      "displayName": "sanghun oh",
      "userId": "06412681606171338922"
     },
     "user_tz": -540
    },
    "id": "TE_uWC5pZGrh",
    "outputId": "5d251d40-8e7a-41e7-b586-f3e08962c9b1"
   },
   "outputs": [
    {
     "data": {
      "text/plain": [
       "Index(['Unnamed: 0', '환자ID', 'Large Lymphocyte', 'Location of herniation',\n",
       "       'ODI', '가족력', '간질성폐질환', '고혈압여부', '과거수술횟수', '당뇨여부', '말초동맥질환여부', '빈혈여부',\n",
       "       '성별', '스테로이드치료', '신부전여부', '신장', '심혈관질환', '암발병여부', '연령', '우울증여부', '입원기간',\n",
       "       '입원일자', '종양진행여부', '직업', '체중', '퇴원일자', '헤모글로빈수치', '혈전합병증여부', '환자통증정도',\n",
       "       '흡연여부', '통증기간(월)', '수술기법', '수술시간', '수술실패여부', '수술일자', '재발여부', '혈액형',\n",
       "       '전방디스크높이(mm)', '후방디스크높이(mm)', '지방축적도', 'Instability', 'MF + ES',\n",
       "       'Modic change', 'PI', 'PT', 'Seg Angle(raw)', 'Vaccum disc', '골밀도',\n",
       "       '디스크단면적', '디스크위치', '척추이동척도', '척추전방위증'],\n",
       "      dtype='object')"
      ]
     },
     "execution_count": 4,
     "metadata": {},
     "output_type": "execute_result"
    }
   ],
   "source": [
    "df1.columns\n"
   ]
  },
  {
   "cell_type": "code",
   "execution_count": 5,
   "metadata": {
    "colab": {
     "base_uri": "https://localhost:8080/"
    },
    "executionInfo": {
     "elapsed": 396,
     "status": "ok",
     "timestamp": 1693811734737,
     "user": {
      "displayName": "sanghun oh",
      "userId": "06412681606171338922"
     },
     "user_tz": -540
    },
    "id": "LhlBm7_xZfk_",
    "outputId": "040b78dd-d7cc-4ef1-9970-2e248e7ec00b"
   },
   "outputs": [
    {
     "name": "stdout",
     "output_type": "stream",
     "text": [
      "(1479, 8)\n"
     ]
    }
   ],
   "source": [
    "# 변수 선택(서비스의 대상을 기준으로) / 결측치 제거\n",
    "df2 = df1[['성별','신장','체중', '흡연여부', '연령', '혈액형', '직업', '재발여부' ]]\n",
    "df3 = df2.dropna()\n",
    "print(df3.shape)\n"
   ]
  },
  {
   "cell_type": "markdown",
   "metadata": {
    "id": "UxbBNqwjZhiQ"
   },
   "source": [
    "- 설명변수 및 목표변수 설정\n"
   ]
  },
  {
   "cell_type": "code",
   "execution_count": 6,
   "metadata": {
    "colab": {
     "base_uri": "https://localhost:8080/",
     "height": 527
    },
    "collapsed": true,
    "executionInfo": {
     "elapsed": 395,
     "status": "ok",
     "timestamp": 1693811734737,
     "user": {
      "displayName": "sanghun oh",
      "userId": "06412681606171338922"
     },
     "user_tz": -540
    },
    "id": "XV5GAsA4VrAD",
    "jupyter": {
     "outputs_hidden": true
    },
    "outputId": "9dce3de3-b975-4018-c8de-8c5086afc817",
    "tags": []
   },
   "outputs": [
    {
     "data": {
      "text/html": [
       "<div>\n",
       "<style scoped>\n",
       "    .dataframe tbody tr th:only-of-type {\n",
       "        vertical-align: middle;\n",
       "    }\n",
       "\n",
       "    .dataframe tbody tr th {\n",
       "        vertical-align: top;\n",
       "    }\n",
       "\n",
       "    .dataframe thead th {\n",
       "        text-align: right;\n",
       "    }\n",
       "</style>\n",
       "<table border=\"1\" class=\"dataframe\">\n",
       "  <thead>\n",
       "    <tr style=\"text-align: right;\">\n",
       "      <th></th>\n",
       "      <th>성별</th>\n",
       "      <th>신장</th>\n",
       "      <th>체중</th>\n",
       "      <th>흡연여부</th>\n",
       "      <th>연령</th>\n",
       "      <th>혈액형_RH+A</th>\n",
       "      <th>혈액형_RH+AB</th>\n",
       "      <th>혈액형_RH+B</th>\n",
       "      <th>혈액형_RH+O</th>\n",
       "      <th>직업_건설업</th>\n",
       "      <th>...</th>\n",
       "      <th>직업_사무직</th>\n",
       "      <th>직업_사업가</th>\n",
       "      <th>직업_예술가</th>\n",
       "      <th>직업_운동선수</th>\n",
       "      <th>직업_운수업</th>\n",
       "      <th>직업_의료직</th>\n",
       "      <th>직업_자영업</th>\n",
       "      <th>직업_주부</th>\n",
       "      <th>직업_특수전문직</th>\n",
       "      <th>직업_학생</th>\n",
       "    </tr>\n",
       "  </thead>\n",
       "  <tbody>\n",
       "    <tr>\n",
       "      <th>0</th>\n",
       "      <td>2</td>\n",
       "      <td>163</td>\n",
       "      <td>60.3</td>\n",
       "      <td>0</td>\n",
       "      <td>66</td>\n",
       "      <td>1</td>\n",
       "      <td>0</td>\n",
       "      <td>0</td>\n",
       "      <td>0</td>\n",
       "      <td>0</td>\n",
       "      <td>...</td>\n",
       "      <td>0</td>\n",
       "      <td>0</td>\n",
       "      <td>0</td>\n",
       "      <td>0</td>\n",
       "      <td>0</td>\n",
       "      <td>0</td>\n",
       "      <td>1</td>\n",
       "      <td>0</td>\n",
       "      <td>0</td>\n",
       "      <td>0</td>\n",
       "    </tr>\n",
       "    <tr>\n",
       "      <th>1</th>\n",
       "      <td>1</td>\n",
       "      <td>171</td>\n",
       "      <td>71.7</td>\n",
       "      <td>0</td>\n",
       "      <td>47</td>\n",
       "      <td>1</td>\n",
       "      <td>0</td>\n",
       "      <td>0</td>\n",
       "      <td>0</td>\n",
       "      <td>0</td>\n",
       "      <td>...</td>\n",
       "      <td>0</td>\n",
       "      <td>0</td>\n",
       "      <td>0</td>\n",
       "      <td>1</td>\n",
       "      <td>0</td>\n",
       "      <td>0</td>\n",
       "      <td>0</td>\n",
       "      <td>0</td>\n",
       "      <td>0</td>\n",
       "      <td>0</td>\n",
       "    </tr>\n",
       "    <tr>\n",
       "      <th>2</th>\n",
       "      <td>1</td>\n",
       "      <td>178</td>\n",
       "      <td>77.1</td>\n",
       "      <td>0</td>\n",
       "      <td>39</td>\n",
       "      <td>0</td>\n",
       "      <td>0</td>\n",
       "      <td>1</td>\n",
       "      <td>0</td>\n",
       "      <td>0</td>\n",
       "      <td>...</td>\n",
       "      <td>0</td>\n",
       "      <td>0</td>\n",
       "      <td>0</td>\n",
       "      <td>0</td>\n",
       "      <td>0</td>\n",
       "      <td>0</td>\n",
       "      <td>0</td>\n",
       "      <td>0</td>\n",
       "      <td>1</td>\n",
       "      <td>0</td>\n",
       "    </tr>\n",
       "    <tr>\n",
       "      <th>3</th>\n",
       "      <td>1</td>\n",
       "      <td>174</td>\n",
       "      <td>74.2</td>\n",
       "      <td>0</td>\n",
       "      <td>40</td>\n",
       "      <td>0</td>\n",
       "      <td>0</td>\n",
       "      <td>0</td>\n",
       "      <td>1</td>\n",
       "      <td>0</td>\n",
       "      <td>...</td>\n",
       "      <td>0</td>\n",
       "      <td>0</td>\n",
       "      <td>0</td>\n",
       "      <td>0</td>\n",
       "      <td>0</td>\n",
       "      <td>0</td>\n",
       "      <td>0</td>\n",
       "      <td>1</td>\n",
       "      <td>0</td>\n",
       "      <td>0</td>\n",
       "    </tr>\n",
       "    <tr>\n",
       "      <th>4</th>\n",
       "      <td>1</td>\n",
       "      <td>183</td>\n",
       "      <td>80.7</td>\n",
       "      <td>0</td>\n",
       "      <td>42</td>\n",
       "      <td>1</td>\n",
       "      <td>0</td>\n",
       "      <td>0</td>\n",
       "      <td>0</td>\n",
       "      <td>0</td>\n",
       "      <td>...</td>\n",
       "      <td>0</td>\n",
       "      <td>0</td>\n",
       "      <td>0</td>\n",
       "      <td>0</td>\n",
       "      <td>0</td>\n",
       "      <td>0</td>\n",
       "      <td>0</td>\n",
       "      <td>0</td>\n",
       "      <td>1</td>\n",
       "      <td>0</td>\n",
       "    </tr>\n",
       "    <tr>\n",
       "      <th>...</th>\n",
       "      <td>...</td>\n",
       "      <td>...</td>\n",
       "      <td>...</td>\n",
       "      <td>...</td>\n",
       "      <td>...</td>\n",
       "      <td>...</td>\n",
       "      <td>...</td>\n",
       "      <td>...</td>\n",
       "      <td>...</td>\n",
       "      <td>...</td>\n",
       "      <td>...</td>\n",
       "      <td>...</td>\n",
       "      <td>...</td>\n",
       "      <td>...</td>\n",
       "      <td>...</td>\n",
       "      <td>...</td>\n",
       "      <td>...</td>\n",
       "      <td>...</td>\n",
       "      <td>...</td>\n",
       "      <td>...</td>\n",
       "      <td>...</td>\n",
       "    </tr>\n",
       "    <tr>\n",
       "      <th>1889</th>\n",
       "      <td>2</td>\n",
       "      <td>157</td>\n",
       "      <td>64.0</td>\n",
       "      <td>0</td>\n",
       "      <td>59</td>\n",
       "      <td>1</td>\n",
       "      <td>0</td>\n",
       "      <td>0</td>\n",
       "      <td>0</td>\n",
       "      <td>0</td>\n",
       "      <td>...</td>\n",
       "      <td>0</td>\n",
       "      <td>0</td>\n",
       "      <td>0</td>\n",
       "      <td>0</td>\n",
       "      <td>0</td>\n",
       "      <td>0</td>\n",
       "      <td>0</td>\n",
       "      <td>0</td>\n",
       "      <td>0</td>\n",
       "      <td>0</td>\n",
       "    </tr>\n",
       "    <tr>\n",
       "      <th>1890</th>\n",
       "      <td>2</td>\n",
       "      <td>157</td>\n",
       "      <td>59.0</td>\n",
       "      <td>0</td>\n",
       "      <td>42</td>\n",
       "      <td>0</td>\n",
       "      <td>0</td>\n",
       "      <td>1</td>\n",
       "      <td>0</td>\n",
       "      <td>0</td>\n",
       "      <td>...</td>\n",
       "      <td>1</td>\n",
       "      <td>0</td>\n",
       "      <td>0</td>\n",
       "      <td>0</td>\n",
       "      <td>0</td>\n",
       "      <td>0</td>\n",
       "      <td>0</td>\n",
       "      <td>0</td>\n",
       "      <td>0</td>\n",
       "      <td>0</td>\n",
       "    </tr>\n",
       "    <tr>\n",
       "      <th>1891</th>\n",
       "      <td>1</td>\n",
       "      <td>167</td>\n",
       "      <td>70.0</td>\n",
       "      <td>0</td>\n",
       "      <td>61</td>\n",
       "      <td>0</td>\n",
       "      <td>0</td>\n",
       "      <td>0</td>\n",
       "      <td>1</td>\n",
       "      <td>0</td>\n",
       "      <td>...</td>\n",
       "      <td>0</td>\n",
       "      <td>0</td>\n",
       "      <td>0</td>\n",
       "      <td>0</td>\n",
       "      <td>0</td>\n",
       "      <td>0</td>\n",
       "      <td>0</td>\n",
       "      <td>0</td>\n",
       "      <td>0</td>\n",
       "      <td>0</td>\n",
       "    </tr>\n",
       "    <tr>\n",
       "      <th>1892</th>\n",
       "      <td>1</td>\n",
       "      <td>177</td>\n",
       "      <td>77.0</td>\n",
       "      <td>0</td>\n",
       "      <td>29</td>\n",
       "      <td>1</td>\n",
       "      <td>0</td>\n",
       "      <td>0</td>\n",
       "      <td>0</td>\n",
       "      <td>0</td>\n",
       "      <td>...</td>\n",
       "      <td>1</td>\n",
       "      <td>0</td>\n",
       "      <td>0</td>\n",
       "      <td>0</td>\n",
       "      <td>0</td>\n",
       "      <td>0</td>\n",
       "      <td>0</td>\n",
       "      <td>0</td>\n",
       "      <td>0</td>\n",
       "      <td>0</td>\n",
       "    </tr>\n",
       "    <tr>\n",
       "      <th>1893</th>\n",
       "      <td>2</td>\n",
       "      <td>168</td>\n",
       "      <td>49.0</td>\n",
       "      <td>0</td>\n",
       "      <td>30</td>\n",
       "      <td>0</td>\n",
       "      <td>1</td>\n",
       "      <td>0</td>\n",
       "      <td>0</td>\n",
       "      <td>0</td>\n",
       "      <td>...</td>\n",
       "      <td>1</td>\n",
       "      <td>0</td>\n",
       "      <td>0</td>\n",
       "      <td>0</td>\n",
       "      <td>0</td>\n",
       "      <td>0</td>\n",
       "      <td>0</td>\n",
       "      <td>0</td>\n",
       "      <td>0</td>\n",
       "      <td>0</td>\n",
       "    </tr>\n",
       "  </tbody>\n",
       "</table>\n",
       "<p>1479 rows × 26 columns</p>\n",
       "</div>"
      ],
      "text/plain": [
       "      성별   신장    체중  흡연여부  연령  혈액형_RH+A  혈액형_RH+AB  혈액형_RH+B  혈액형_RH+O  \\\n",
       "0      2  163  60.3     0  66         1          0         0         0   \n",
       "1      1  171  71.7     0  47         1          0         0         0   \n",
       "2      1  178  77.1     0  39         0          0         1         0   \n",
       "3      1  174  74.2     0  40         0          0         0         1   \n",
       "4      1  183  80.7     0  42         1          0         0         0   \n",
       "...   ..  ...   ...   ...  ..       ...        ...       ...       ...   \n",
       "1889   2  157  64.0     0  59         1          0         0         0   \n",
       "1890   2  157  59.0     0  42         0          0         1         0   \n",
       "1891   1  167  70.0     0  61         0          0         0         1   \n",
       "1892   1  177  77.0     0  29         1          0         0         0   \n",
       "1893   2  168  49.0     0  30         0          1         0         0   \n",
       "\n",
       "      직업_건설업  ...  직업_사무직  직업_사업가  직업_예술가  직업_운동선수  직업_운수업  직업_의료직  직업_자영업  \\\n",
       "0          0  ...       0       0       0        0       0       0       1   \n",
       "1          0  ...       0       0       0        1       0       0       0   \n",
       "2          0  ...       0       0       0        0       0       0       0   \n",
       "3          0  ...       0       0       0        0       0       0       0   \n",
       "4          0  ...       0       0       0        0       0       0       0   \n",
       "...      ...  ...     ...     ...     ...      ...     ...     ...     ...   \n",
       "1889       0  ...       0       0       0        0       0       0       0   \n",
       "1890       0  ...       1       0       0        0       0       0       0   \n",
       "1891       0  ...       0       0       0        0       0       0       0   \n",
       "1892       0  ...       1       0       0        0       0       0       0   \n",
       "1893       0  ...       1       0       0        0       0       0       0   \n",
       "\n",
       "      직업_주부  직업_특수전문직  직업_학생  \n",
       "0         0         0      0  \n",
       "1         0         0      0  \n",
       "2         0         1      0  \n",
       "3         1         0      0  \n",
       "4         0         1      0  \n",
       "...     ...       ...    ...  \n",
       "1889      0         0      0  \n",
       "1890      0         0      0  \n",
       "1891      0         0      0  \n",
       "1892      0         0      0  \n",
       "1893      0         0      0  \n",
       "\n",
       "[1479 rows x 26 columns]"
      ]
     },
     "execution_count": 6,
     "metadata": {},
     "output_type": "execute_result"
    }
   ],
   "source": [
    "# 더미변수처리(문자 데이터 -> One Hot Encoding)\n",
    "X = df3.drop(columns='재발여부')\n",
    "features = pd.get_dummies(X)\n",
    "# features\n"
   ]
  },
  {
   "cell_type": "code",
   "execution_count": 7,
   "metadata": {
    "executionInfo": {
     "elapsed": 8,
     "status": "ok",
     "timestamp": 1693811734738,
     "user": {
      "displayName": "sanghun oh",
      "userId": "06412681606171338922"
     },
     "user_tz": -540
    },
    "id": "6GItoSd2Xoit"
   },
   "outputs": [],
   "source": [
    "target = df3['재발여부']\n"
   ]
  },
  {
   "cell_type": "markdown",
   "metadata": {
    "id": "KI_ncs5Vfg7v"
   },
   "source": [
    "### machine learning"
   ]
  },
  {
   "cell_type": "code",
   "execution_count": 8,
   "metadata": {
    "executionInfo": {
     "elapsed": 7,
     "status": "ok",
     "timestamp": 1693811734738,
     "user": {
      "displayName": "sanghun oh",
      "userId": "06412681606171338922"
     },
     "user_tz": -540
    },
    "id": "kHBzgNnbZsEN"
   },
   "outputs": [],
   "source": [
    "# 기계학습 알고리즘 호출\n",
    "from sklearn.model_selection import train_test_split\n",
    "from sklearn.pipeline import Pipeline\n",
    "from sklearn.preprocessing import MinMaxScaler\n",
    "from sklearn.tree import DecisionTreeClassifier\n",
    "from sklearn.model_selection import GridSearchCV\n",
    "from sklearn.metrics import classification_report\n",
    "from sklearn.tree import plot_tree\n"
   ]
  },
  {
   "cell_type": "markdown",
   "metadata": {},
   "source": [
    "### resampling"
   ]
  },
  {
   "cell_type": "code",
   "execution_count": 19,
   "metadata": {},
   "outputs": [
    {
     "data": {
      "text/plain": [
       "Counter({0: 1302, 1: 177})"
      ]
     },
     "execution_count": 19,
     "metadata": {},
     "output_type": "execute_result"
    }
   ],
   "source": [
    "from collections import Counter\n",
    "\n",
    "# resampling 하기 전\n",
    "Counter(target)"
   ]
  },
  {
   "cell_type": "code",
   "execution_count": 20,
   "metadata": {
    "collapsed": true,
    "jupyter": {
     "outputs_hidden": true
    },
    "tags": []
   },
   "outputs": [
    {
     "data": {
      "text/plain": [
       "Counter({0: 1302, 1: 1041})"
      ]
     },
     "execution_count": 20,
     "metadata": {},
     "output_type": "execute_result"
    }
   ],
   "source": [
    "## OverSampling\n",
    "# from imblearn.over_sampling import SMOTE\n",
    "# resample = SMOTE(sampling_strategy=0.8)\n",
    "# features_over_resample, target_over_resample = resample.fit_resample(features, target)\n",
    "\n",
    "# # resampling 하기 후\n",
    "# Counter(target_over_resample)"
   ]
  },
  {
   "cell_type": "code",
   "execution_count": 31,
   "metadata": {
    "collapsed": true,
    "jupyter": {
     "outputs_hidden": true
    },
    "tags": []
   },
   "outputs": [
    {
     "data": {
      "text/plain": [
       "Counter({0: 321, 1: 177})"
      ]
     },
     "execution_count": 31,
     "metadata": {},
     "output_type": "execute_result"
    }
   ],
   "source": [
    "## Under Sampling\n",
    "# from imblearn.under_sampling import NearMiss\n",
    "# resample = NearMiss(sampling_strategy=0.55)\n",
    "# features_over_resample, target_over_resample = resample.fit_resample(features, target)\n",
    "\n",
    "# # resampling 하기 후\n",
    "# Counter(target_over_resample)"
   ]
  },
  {
   "cell_type": "code",
   "execution_count": 39,
   "metadata": {},
   "outputs": [
    {
     "data": {
      "text/plain": [
       "Counter({0: 790, 1: 380})"
      ]
     },
     "execution_count": 39,
     "metadata": {},
     "output_type": "execute_result"
    }
   ],
   "source": [
    "# Combine Sampling\n",
    "from imblearn.combine import SMOTEENN\n",
    "resample = SMOTEENN(sampling_strategy=0.50)\n",
    "features_over_resample, target_over_resample = resample.fit_resample(features, target)\n",
    "# resampling 하기 후\n",
    "Counter(target_over_resample)"
   ]
  },
  {
   "cell_type": "code",
   "execution_count": 40,
   "metadata": {
    "colab": {
     "base_uri": "https://localhost:8080/"
    },
    "executionInfo": {
     "elapsed": 7,
     "status": "ok",
     "timestamp": 1693811734738,
     "user": {
      "displayName": "sanghun oh",
      "userId": "06412681606171338922"
     },
     "user_tz": -540
    },
    "id": "JkWO4T8DZvVl",
    "outputId": "1f39c764-70c7-4580-eef3-56bf78fcaff0"
   },
   "outputs": [
    {
     "name": "stdout",
     "output_type": "stream",
     "text": [
      "(819, 26)\n",
      "(819,)\n",
      "(351, 26)\n",
      "(351,)\n"
     ]
    }
   ],
   "source": [
    "features_train, features_test, target_train, target_test = train_test_split(features_over_resample, target_over_resample\n",
    "                                                                            , test_size = 0.3, random_state= 1234)\n",
    "print(features_train.shape)\n",
    "print(target_train.shape)\n",
    "print(features_test .shape)\n",
    "print(target_test.shape)"
   ]
  },
  {
   "cell_type": "code",
   "execution_count": 41,
   "metadata": {
    "colab": {
     "base_uri": "https://localhost:8080/",
     "height": 125
    },
    "executionInfo": {
     "elapsed": 6,
     "status": "ok",
     "timestamp": 1693811734738,
     "user": {
      "displayName": "sanghun oh",
      "userId": "06412681606171338922"
     },
     "user_tz": -540
    },
    "id": "f9ynWD3UZx3k",
    "outputId": "61cc1119-bdab-41cd-c16a-3c80bf7cd079"
   },
   "outputs": [
    {
     "data": {
      "text/plain": [
       "Pipeline(steps=[('scaler', MinMaxScaler()),\n",
       "                ('model', DecisionTreeClassifier())])"
      ]
     },
     "execution_count": 41,
     "metadata": {},
     "output_type": "execute_result"
    }
   ],
   "source": [
    "pipe_list = [('scaler',MinMaxScaler()),('model',DecisionTreeClassifier())]\n",
    "pipe_model = Pipeline(pipe_list)\n",
    "pipe_model"
   ]
  },
  {
   "cell_type": "code",
   "execution_count": 47,
   "metadata": {
    "executionInfo": {
     "elapsed": 5,
     "status": "ok",
     "timestamp": 1693811734738,
     "user": {
      "displayName": "sanghun oh",
      "userId": "06412681606171338922"
     },
     "user_tz": -540
    },
    "id": "8OSNLGovXsf-"
   },
   "outputs": [],
   "source": [
    "from sklearn.metrics import make_scorer, f1_score\n",
    "scoring = make_scorer(f1_score)\n",
    "hyper_list = {'model__max_depth':range(2, 10),\n",
    "              'model__min_samples_leaf': range(2, 10),\n",
    "              'model__criterion': ['gini','entropy', 'log_loss'],\n",
    "              'model__class_weight': [None, 'balanced'],\n",
    "              'model__min_samples_split': range(2, 10),}\n",
    "grid_model = GridSearchCV(pipe_model, param_grid=hyper_list,\n",
    "                          scoring=scoring,\n",
    "                          n_jobs = -1,\n",
    "                          cv = 5)"
   ]
  },
  {
   "cell_type": "code",
   "execution_count": 48,
   "metadata": {
    "colab": {
     "base_uri": "https://localhost:8080/"
    },
    "executionInfo": {
     "elapsed": 61589,
     "status": "ok",
     "timestamp": 1693811796322,
     "user": {
      "displayName": "sanghun oh",
      "userId": "06412681606171338922"
     },
     "user_tz": -540
    },
    "id": "_YAe-h3ns9AW",
    "outputId": "cd6fae84-21f4-46ce-bc11-749785ed273a"
   },
   "outputs": [
    {
     "name": "stdout",
     "output_type": "stream",
     "text": [
      "Duration: 0:00:24.991726\n"
     ]
    },
    {
     "name": "stderr",
     "output_type": "stream",
     "text": [
      "C:\\Users\\05-16\\anaconda3\\lib\\site-packages\\sklearn\\model_selection\\_validation.py:372: FitFailedWarning: \n",
      "10240 fits failed out of a total of 30720.\n",
      "The score on these train-test partitions for these parameters will be set to nan.\n",
      "If these failures are not expected, you can try to debug them by setting error_score='raise'.\n",
      "\n",
      "Below are more details about the failures:\n",
      "--------------------------------------------------------------------------------\n",
      "10240 fits failed with the following error:\n",
      "Traceback (most recent call last):\n",
      "  File \"C:\\Users\\05-16\\anaconda3\\lib\\site-packages\\sklearn\\model_selection\\_validation.py\", line 680, in _fit_and_score\n",
      "    estimator.fit(X_train, y_train, **fit_params)\n",
      "  File \"C:\\Users\\05-16\\anaconda3\\lib\\site-packages\\sklearn\\pipeline.py\", line 394, in fit\n",
      "    self._final_estimator.fit(Xt, y, **fit_params_last_step)\n",
      "  File \"C:\\Users\\05-16\\anaconda3\\lib\\site-packages\\sklearn\\tree\\_classes.py\", line 937, in fit\n",
      "    super().fit(\n",
      "  File \"C:\\Users\\05-16\\anaconda3\\lib\\site-packages\\sklearn\\tree\\_classes.py\", line 352, in fit\n",
      "    criterion = CRITERIA_CLF[self.criterion](\n",
      "KeyError: 'log_loss'\n",
      "\n",
      "  warnings.warn(some_fits_failed_message, FitFailedWarning)\n",
      "C:\\Users\\05-16\\anaconda3\\lib\\site-packages\\sklearn\\model_selection\\_search.py:969: UserWarning: One or more of the test scores are non-finite: [0.51737053 0.31311266 0.51351839 ...        nan        nan        nan]\n",
      "  warnings.warn(\n"
     ]
    }
   ],
   "source": [
    "from datetime import datetime\n",
    "\n",
    "start = datetime.now()  # start date and time\n",
    "\n",
    "grid_model.fit(features_train, target_train)\n",
    "\n",
    "end = datetime.now()  # end date and time - set to current date and time\n",
    "\n",
    "duration = end - start  # duration as a timedelta object\n",
    "\n",
    "print(\"Duration: {0}\".format(duration))"
   ]
  },
  {
   "cell_type": "code",
   "execution_count": 45,
   "metadata": {
    "executionInfo": {
     "elapsed": 9,
     "status": "ok",
     "timestamp": 1693811796322,
     "user": {
      "displayName": "sanghun oh",
      "userId": "06412681606171338922"
     },
     "user_tz": -540
    },
    "id": "FgeWmGCeZ8PH"
   },
   "outputs": [],
   "source": [
    "best_model = grid_model.best_estimator_\n",
    "target_train_pred = best_model.predict(features_train)\n",
    "target_test_pred = best_model.predict(features_test)"
   ]
  },
  {
   "cell_type": "markdown",
   "metadata": {
    "id": "ao-8rwwgaHA8"
   },
   "source": [
    "- 분류 모델에서 확인하고자 하는 Target 항목의 데이터 비율이 적으면\n",
    "- recall 이 매우 떨어지는 현상 도출\n"
   ]
  },
  {
   "cell_type": "markdown",
   "metadata": {},
   "source": [
    "              precision    recall  f1-score   support\n",
    "\n",
    "           0       0.90      1.00      0.95       911\n",
    "           1       0.93      0.23      0.36       124\n",
    "\n",
    "    accuracy                           0.91      1035\n",
    "   macro avg       0.92      0.61      0.66      1035\n",
    "weighted avg       0.91      0.91      0.88      1035\n",
    "\n",
    "              precision    recall  f1-score   support\n",
    "\n",
    "           0       0.89      0.99      0.94       391\n",
    "           1       0.56      0.09      0.16        53\n",
    "\n",
    "    accuracy                           0.88       444\n",
    "   macro avg       0.72      0.54      0.55       444\n",
    "weighted avg       0.85      0.88      0.84       444"
   ]
  },
  {
   "cell_type": "code",
   "execution_count": 46,
   "metadata": {
    "colab": {
     "base_uri": "https://localhost:8080/"
    },
    "executionInfo": {
     "elapsed": 8,
     "status": "ok",
     "timestamp": 1693811796322,
     "user": {
      "displayName": "sanghun oh",
      "userId": "06412681606171338922"
     },
     "user_tz": -540
    },
    "id": "_aiiO0_FX-fe",
    "outputId": "621eb592-d300-44b5-8e09-4aef4faefe42"
   },
   "outputs": [
    {
     "name": "stdout",
     "output_type": "stream",
     "text": [
      "              precision    recall  f1-score   support\n",
      "\n",
      "           0       0.91      0.99      0.95       566\n",
      "           1       0.98      0.78      0.87       253\n",
      "\n",
      "    accuracy                           0.93       819\n",
      "   macro avg       0.94      0.89      0.91       819\n",
      "weighted avg       0.93      0.93      0.92       819\n",
      "\n",
      "              precision    recall  f1-score   support\n",
      "\n",
      "           0       0.86      0.99      0.92       224\n",
      "           1       0.98      0.72      0.83       127\n",
      "\n",
      "    accuracy                           0.89       351\n",
      "   macro avg       0.92      0.85      0.87       351\n",
      "weighted avg       0.90      0.89      0.89       351\n",
      "\n"
     ]
    }
   ],
   "source": [
    "print(classification_report(target_train, target_train_pred))\n",
    "print(classification_report(target_test, target_test_pred))"
   ]
  },
  {
   "cell_type": "code",
   "execution_count": 15,
   "metadata": {
    "executionInfo": {
     "elapsed": 7,
     "status": "ok",
     "timestamp": 1693811796322,
     "user": {
      "displayName": "sanghun oh",
      "userId": "06412681606171338922"
     },
     "user_tz": -540
    },
    "id": "Q7aThpAKYGrK"
   },
   "outputs": [],
   "source": [
    "col_name = features_train.columns"
   ]
  },
  {
   "cell_type": "markdown",
   "metadata": {
    "id": "dNQzfOnCaONn"
   },
   "source": [
    "설명 변수 중요도\n"
   ]
  },
  {
   "cell_type": "code",
   "execution_count": 16,
   "metadata": {
    "colab": {
     "base_uri": "https://localhost:8080/",
     "height": 206
    },
    "executionInfo": {
     "elapsed": 6,
     "status": "ok",
     "timestamp": 1693811796322,
     "user": {
      "displayName": "sanghun oh",
      "userId": "06412681606171338922"
     },
     "user_tz": -540
    },
    "id": "EsV25wpmYLVw",
    "outputId": "ea317c59-4e48-470f-81e9-aa827ac66f12"
   },
   "outputs": [
    {
     "data": {
      "text/html": [
       "<div>\n",
       "<style scoped>\n",
       "    .dataframe tbody tr th:only-of-type {\n",
       "        vertical-align: middle;\n",
       "    }\n",
       "\n",
       "    .dataframe tbody tr th {\n",
       "        vertical-align: top;\n",
       "    }\n",
       "\n",
       "    .dataframe thead th {\n",
       "        text-align: right;\n",
       "    }\n",
       "</style>\n",
       "<table border=\"1\" class=\"dataframe\">\n",
       "  <thead>\n",
       "    <tr style=\"text-align: right;\">\n",
       "      <th></th>\n",
       "      <th>Feature</th>\n",
       "      <th>Importance</th>\n",
       "    </tr>\n",
       "  </thead>\n",
       "  <tbody>\n",
       "    <tr>\n",
       "      <th>2</th>\n",
       "      <td>체중</td>\n",
       "      <td>0.531462</td>\n",
       "    </tr>\n",
       "    <tr>\n",
       "      <th>3</th>\n",
       "      <td>흡연여부</td>\n",
       "      <td>0.205908</td>\n",
       "    </tr>\n",
       "    <tr>\n",
       "      <th>4</th>\n",
       "      <td>연령</td>\n",
       "      <td>0.063592</td>\n",
       "    </tr>\n",
       "    <tr>\n",
       "      <th>1</th>\n",
       "      <td>신장</td>\n",
       "      <td>0.044762</td>\n",
       "    </tr>\n",
       "    <tr>\n",
       "      <th>7</th>\n",
       "      <td>혈액형_RH+B</td>\n",
       "      <td>0.039850</td>\n",
       "    </tr>\n",
       "  </tbody>\n",
       "</table>\n",
       "</div>"
      ],
      "text/plain": [
       "    Feature  Importance\n",
       "2        체중    0.531462\n",
       "3      흡연여부    0.205908\n",
       "4        연령    0.063592\n",
       "1        신장    0.044762\n",
       "7  혈액형_RH+B    0.039850"
      ]
     },
     "execution_count": 16,
     "metadata": {},
     "output_type": "execute_result"
    }
   ],
   "source": [
    "df_importance = pd.DataFrame()\n",
    "df_importance [ 'Feature']= col_name\n",
    "df_importance ['Importance']= best_model['model'].feature_importances_\n",
    "df_importance.sort_values(by='Importance',ascending=False).head(5)"
   ]
  },
  {
   "cell_type": "code",
   "execution_count": 17,
   "metadata": {
    "colab": {
     "base_uri": "https://localhost:8080/"
    },
    "executionInfo": {
     "elapsed": 6,
     "status": "ok",
     "timestamp": 1693811796323,
     "user": {
      "displayName": "sanghun oh",
      "userId": "06412681606171338922"
     },
     "user_tz": -540
    },
    "id": "vq5i0VnKwQsh",
    "outputId": "8abd62e8-7609-4051-b3dd-5e4bbfbd41f8"
   },
   "outputs": [
    {
     "data": {
      "text/plain": [
       "Counter({0: 1302, 1: 177})"
      ]
     },
     "execution_count": 17,
     "metadata": {},
     "output_type": "execute_result"
    }
   ],
   "source": []
  }
 ],
 "metadata": {
  "colab": {
   "authorship_tag": "ABX9TyMrL9H7jNtQZcHy5gsyhqvW",
   "collapsed_sections": [
    "lMxkHOY4-cL6",
    "njyOub_eeeIV"
   ],
   "provenance": []
  },
  "kernelspec": {
   "display_name": "Python 3 (ipykernel)",
   "language": "python",
   "name": "python3"
  },
  "language_info": {
   "codemirror_mode": {
    "name": "ipython",
    "version": 3
   },
   "file_extension": ".py",
   "mimetype": "text/x-python",
   "name": "python",
   "nbconvert_exporter": "python",
   "pygments_lexer": "ipython3",
   "version": "3.9.13"
  }
 },
 "nbformat": 4,
 "nbformat_minor": 4
}
