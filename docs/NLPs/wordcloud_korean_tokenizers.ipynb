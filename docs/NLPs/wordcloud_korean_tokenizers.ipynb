{
  "nbformat": 4,
  "nbformat_minor": 0,
  "metadata": {
    "colab": {
      "provenance": [],
      "authorship_tag": "ABX9TyPA0IKNVLsJHGu/asNiJR4h",
      "include_colab_link": true
    },
    "kernelspec": {
      "name": "python3",
      "display_name": "Python 3"
    },
    "language_info": {
      "name": "python"
    }
  },
  "cells": [
    {
      "cell_type": "markdown",
      "metadata": {
        "id": "view-in-github",
        "colab_type": "text"
      },
      "source": [
        "<a href=\"https://colab.research.google.com/github/yojulab/study_AIs/blob/main/docs/NLPs/wordcloud_korean_tokenizers.ipynb\" target=\"_parent\"><img src=\"https://colab.research.google.com/assets/colab-badge.svg\" alt=\"Open In Colab\"/></a>"
      ]
    },
    {
      "cell_type": "markdown",
      "source": [
        "## 데이터 전처리"
      ],
      "metadata": {
        "id": "kqjiKKaJnFFl"
      }
    },
    {
      "cell_type": "code",
      "execution_count": null,
      "metadata": {
        "id": "mkQaq1GqmKhK"
      },
      "outputs": [],
      "source": [
        "it_sentences = [\n",
        "    \"인공지능 기술이 사회의 다양한 분야에 점점 더 널리 적용되고 있다.\",\n",
        "    \"클라우드 컴퓨팅은 데이터 저장과 처리를 더욱 효율적으로 만들어 주며, 기업의 IT 인프라를 혁신하고 있다.\",\n",
        "    \"머신러닝과 딥러닝 알고리즘은 데이터 분석과 예측 모델링에 혁명을 일으키고 있다.\",\n",
        "    # \"블록체인 기술은 금융 거래의 투명성과 보안성을 향상시키는데 기여하고 있다.\",\n",
        "    # \"사이버 보안은 디지털 시대의 중요한 이슈로 부상하고 있으며, 지속적인 관심과 개선이 요구된다.\",\n",
        "    # \"소프트웨어 개발에서의 애자일 방법론은 빠른 시장 변화에 효과적으로 대응할 수 있게 해준다.\",\n",
        "    # \"데이터 과학과 분석은 비즈니스 의사 결정 과정에서 중요한 역할을 하며, 기업의 경쟁력을 강화시킨다.\",\n",
        "    # \"사물인터넷(IoT) 기술은 일상 생활을 더욱 편리하고 연결된 공간으로 변화시키고 있다.\",\n",
        "    # \"가상현실(VR)과 증강현실(AR) 기술은 엔터테인먼트, 교육, 의료 등 다양한 분야에서 새로운 경험을 제공한다.\",\n",
        "    # \"파이썬은 데이터 과학, 웹 개발, 자동화 스크립트 작성 등 다양한 프로그래밍 작업에 널리 사용되는 언어이다.\"\n",
        "]"
      ]
    },
    {
      "cell_type": "code",
      "source": [
        "!pip install python-mecab-ko"
      ],
      "metadata": {
        "id": "RCpg22u-wWOO",
        "colab": {
          "base_uri": "https://localhost:8080/"
        },
        "outputId": "ecd0947f-8037-489b-83a2-43c5f7243a19"
      },
      "execution_count": null,
      "outputs": [
        {
          "output_type": "stream",
          "name": "stdout",
          "text": [
            "Requirement already satisfied: python-mecab-ko in /usr/local/lib/python3.10/dist-packages (1.3.3)\n",
            "Requirement already satisfied: python-mecab-ko-dic in /usr/local/lib/python3.10/dist-packages (from python-mecab-ko) (2.1.1.post2)\n"
          ]
        }
      ]
    },
    {
      "cell_type": "code",
      "source": [
        "from mecab import MeCab\n",
        "mecab = MeCab()"
      ],
      "metadata": {
        "id": "uXzlgiLzwZkG"
      },
      "execution_count": null,
      "outputs": []
    },
    {
      "cell_type": "code",
      "source": [
        "morphs_nouns = []\n",
        "morphs_nouns_list = []\n",
        "for sentence in it_sentences:\n",
        "  morphs = mecab.nouns(sentence)\n",
        "  morphs_nouns.append(morphs)\n",
        "  morphs_nouns_list = morphs_nouns_list + morphs\n",
        "  pass\n",
        "\n",
        "# morphs_nouns\n",
        "# morphs_nouns_list"
      ],
      "metadata": {
        "id": "IRhpN_iQwcf-"
      },
      "execution_count": null,
      "outputs": []
    },
    {
      "cell_type": "code",
      "source": [
        "corpus = list(map(lambda x:' '.join(x) ,morphs_nouns))\n",
        "corpus[:2]"
      ],
      "metadata": {
        "colab": {
          "base_uri": "https://localhost:8080/"
        },
        "id": "aAXMQdw_wg1t",
        "outputId": "4ef211d9-95d5-4277-e91f-104ecaec6e57"
      },
      "execution_count": null,
      "outputs": [
        {
          "output_type": "execute_result",
          "data": {
            "text/plain": [
              "['인공지능 기술 사회 다양 분야 적용', '클라우드 컴퓨팅 데이터 저장 처리 효율 기업 인프라 혁신']"
            ]
          },
          "metadata": {},
          "execution_count": 52
        }
      ]
    },
    {
      "cell_type": "markdown",
      "source": [
        "### Tfidf Vectorizing"
      ],
      "metadata": {
        "id": "EQlgn_zIyZOo"
      }
    },
    {
      "cell_type": "code",
      "source": [
        "from sklearn.feature_extraction.text import TfidfVectorizer\n",
        "tfidfVectorizer = TfidfVectorizer()\n",
        "result_vectors = tfidfVectorizer.fit_transform(corpus)\n",
        "result_vectors"
      ],
      "metadata": {
        "id": "VeJZEoEDnP1V",
        "colab": {
          "base_uri": "https://localhost:8080/"
        },
        "outputId": "3b19d1ca-6296-4888-e0f4-84cad4f46c79"
      },
      "execution_count": null,
      "outputs": [
        {
          "output_type": "execute_result",
          "data": {
            "text/plain": [
              "<3x22 sparse matrix of type '<class 'numpy.float64'>'\n",
              "\twith 23 stored elements in Compressed Sparse Row format>"
            ]
          },
          "metadata": {},
          "execution_count": 53
        }
      ]
    },
    {
      "cell_type": "code",
      "source": [
        "tfidfVectorizer.vocabulary_"
      ],
      "metadata": {
        "id": "q8ZCvvWdVLO-",
        "colab": {
          "base_uri": "https://localhost:8080/"
        },
        "outputId": "a66cd2a7-fd13-486c-d029-9a69b82bc903"
      },
      "execution_count": null,
      "outputs": [
        {
          "output_type": "execute_result",
          "data": {
            "text/plain": [
              "{'인공지능': 12,\n",
              " '기술': 0,\n",
              " '사회': 9,\n",
              " '다양': 2,\n",
              " '분야': 8,\n",
              " '적용': 15,\n",
              " '클라우드': 18,\n",
              " '컴퓨팅': 17,\n",
              " '데이터': 3,\n",
              " '저장': 14,\n",
              " '처리': 16,\n",
              " '효율': 21,\n",
              " '기업': 1,\n",
              " '인프라': 13,\n",
              " '혁신': 20,\n",
              " '머신': 5,\n",
              " '러닝': 4,\n",
              " '알고리즘': 10,\n",
              " '분석': 7,\n",
              " '예측': 11,\n",
              " '모델링': 6,\n",
              " '혁명': 19}"
            ]
          },
          "metadata": {},
          "execution_count": 54
        }
      ]
    },
    {
      "cell_type": "code",
      "source": [
        "# result_vectors.toarray()[:2]\n",
        "dtm = result_vectors.toarray()\n",
        "dtm.shape"
      ],
      "metadata": {
        "colab": {
          "base_uri": "https://localhost:8080/"
        },
        "id": "xaQR7aI60Rd_",
        "outputId": "11ab786d-dbb3-4b72-fb2e-0ef55d58e4bf"
      },
      "execution_count": null,
      "outputs": [
        {
          "output_type": "execute_result",
          "data": {
            "text/plain": [
              "(3, 22)"
            ]
          },
          "metadata": {},
          "execution_count": 55
        }
      ]
    },
    {
      "cell_type": "code",
      "source": [
        "# tfidfVectorizer.get_feature_names_out()[:2]\n",
        "vocabs = tfidfVectorizer.get_feature_names_out()\n",
        "len(vocabs)"
      ],
      "metadata": {
        "colab": {
          "base_uri": "https://localhost:8080/"
        },
        "id": "DAgBLCKx0hjY",
        "outputId": "bd209501-6b6e-4ebd-d241-25d06f356032"
      },
      "execution_count": null,
      "outputs": [
        {
          "output_type": "execute_result",
          "data": {
            "text/plain": [
              "22"
            ]
          },
          "metadata": {},
          "execution_count": 56
        }
      ]
    },
    {
      "cell_type": "code",
      "source": [
        "import pandas as pd\n",
        "df_dtm = pd.DataFrame(dtm, columns=vocabs)\n",
        "# df_dtm.T\n",
        "df_dtm.values.T"
      ],
      "metadata": {
        "colab": {
          "base_uri": "https://localhost:8080/"
        },
        "id": "eMpAznEp1IpH",
        "outputId": "b93b29cd-0ddb-4656-ca31-651222af1238"
      },
      "execution_count": null,
      "outputs": [
        {
          "output_type": "execute_result",
          "data": {
            "text/plain": [
              "array([[0.40824829, 0.        , 0.        ],\n",
              "       [0.        , 0.34142622, 0.        ],\n",
              "       [0.40824829, 0.        , 0.        ],\n",
              "       [0.        , 0.25966344, 0.23383201],\n",
              "       [0.        , 0.        , 0.61492198],\n",
              "       [0.        , 0.        , 0.30746099],\n",
              "       [0.        , 0.        , 0.30746099],\n",
              "       [0.        , 0.        , 0.30746099],\n",
              "       [0.40824829, 0.        , 0.        ],\n",
              "       [0.40824829, 0.        , 0.        ],\n",
              "       [0.        , 0.        , 0.30746099],\n",
              "       [0.        , 0.        , 0.30746099],\n",
              "       [0.40824829, 0.        , 0.        ],\n",
              "       [0.        , 0.34142622, 0.        ],\n",
              "       [0.        , 0.34142622, 0.        ],\n",
              "       [0.40824829, 0.        , 0.        ],\n",
              "       [0.        , 0.34142622, 0.        ],\n",
              "       [0.        , 0.34142622, 0.        ],\n",
              "       [0.        , 0.34142622, 0.        ],\n",
              "       [0.        , 0.        , 0.30746099],\n",
              "       [0.        , 0.34142622, 0.        ],\n",
              "       [0.        , 0.34142622, 0.        ]])"
            ]
          },
          "metadata": {},
          "execution_count": 57
        }
      ]
    },
    {
      "cell_type": "code",
      "source": [
        "vocabs"
      ],
      "metadata": {
        "id": "_Znj8lQ_2OFQ",
        "colab": {
          "base_uri": "https://localhost:8080/"
        },
        "outputId": "e7d3f4b9-791e-46c0-8d4a-99e1d832da0c"
      },
      "execution_count": null,
      "outputs": [
        {
          "output_type": "execute_result",
          "data": {
            "text/plain": [
              "array(['기술', '기업', '다양', '데이터', '러닝', '머신', '모델링', '분석', '분야', '사회',\n",
              "       '알고리즘', '예측', '인공지능', '인프라', '저장', '적용', '처리', '컴퓨팅', '클라우드', '혁명',\n",
              "       '혁신', '효율'], dtype=object)"
            ]
          },
          "metadata": {},
          "execution_count": 58
        }
      ]
    },
    {
      "cell_type": "code",
      "source": [
        "# tfidfVectorizer.idf_.shape\n",
        "tfidfVectorizer.idf_"
      ],
      "metadata": {
        "colab": {
          "base_uri": "https://localhost:8080/"
        },
        "id": "AIgL3WpEOuHx",
        "outputId": "ab2b18a2-8611-40da-db37-9780eaaaa2b7"
      },
      "execution_count": null,
      "outputs": [
        {
          "output_type": "execute_result",
          "data": {
            "text/plain": [
              "array([1.69314718, 1.69314718, 1.69314718, 1.28768207, 1.69314718,\n",
              "       1.69314718, 1.69314718, 1.69314718, 1.69314718, 1.69314718,\n",
              "       1.69314718, 1.69314718, 1.69314718, 1.69314718, 1.69314718,\n",
              "       1.69314718, 1.69314718, 1.69314718, 1.69314718, 1.69314718,\n",
              "       1.69314718, 1.69314718])"
            ]
          },
          "metadata": {},
          "execution_count": 59
        }
      ]
    },
    {
      "cell_type": "code",
      "source": [
        "display(df_dtm.style.background_gradient())\n"
      ],
      "metadata": {
        "id": "bmr3BTF0QySM",
        "colab": {
          "base_uri": "https://localhost:8080/",
          "height": 163
        },
        "outputId": "530dd969-03b7-42e6-bd0f-cc17967cabac"
      },
      "execution_count": null,
      "outputs": [
        {
          "output_type": "display_data",
          "data": {
            "text/plain": [
              "<pandas.io.formats.style.Styler at 0x7be08d6e04c0>"
            ],
            "text/html": [
              "<style type=\"text/css\">\n",
              "#T_fdd12_row0_col0, #T_fdd12_row0_col2, #T_fdd12_row0_col8, #T_fdd12_row0_col9, #T_fdd12_row0_col12, #T_fdd12_row0_col15, #T_fdd12_row1_col1, #T_fdd12_row1_col3, #T_fdd12_row1_col13, #T_fdd12_row1_col14, #T_fdd12_row1_col16, #T_fdd12_row1_col17, #T_fdd12_row1_col18, #T_fdd12_row1_col20, #T_fdd12_row1_col21, #T_fdd12_row2_col4, #T_fdd12_row2_col5, #T_fdd12_row2_col6, #T_fdd12_row2_col7, #T_fdd12_row2_col10, #T_fdd12_row2_col11, #T_fdd12_row2_col19 {\n",
              "  background-color: #023858;\n",
              "  color: #f1f1f1;\n",
              "}\n",
              "#T_fdd12_row0_col1, #T_fdd12_row0_col3, #T_fdd12_row0_col4, #T_fdd12_row0_col5, #T_fdd12_row0_col6, #T_fdd12_row0_col7, #T_fdd12_row0_col10, #T_fdd12_row0_col11, #T_fdd12_row0_col13, #T_fdd12_row0_col14, #T_fdd12_row0_col16, #T_fdd12_row0_col17, #T_fdd12_row0_col18, #T_fdd12_row0_col19, #T_fdd12_row0_col20, #T_fdd12_row0_col21, #T_fdd12_row1_col0, #T_fdd12_row1_col2, #T_fdd12_row1_col4, #T_fdd12_row1_col5, #T_fdd12_row1_col6, #T_fdd12_row1_col7, #T_fdd12_row1_col8, #T_fdd12_row1_col9, #T_fdd12_row1_col10, #T_fdd12_row1_col11, #T_fdd12_row1_col12, #T_fdd12_row1_col15, #T_fdd12_row1_col19, #T_fdd12_row2_col0, #T_fdd12_row2_col1, #T_fdd12_row2_col2, #T_fdd12_row2_col8, #T_fdd12_row2_col9, #T_fdd12_row2_col12, #T_fdd12_row2_col13, #T_fdd12_row2_col14, #T_fdd12_row2_col15, #T_fdd12_row2_col16, #T_fdd12_row2_col17, #T_fdd12_row2_col18, #T_fdd12_row2_col20, #T_fdd12_row2_col21 {\n",
              "  background-color: #fff7fb;\n",
              "  color: #000000;\n",
              "}\n",
              "#T_fdd12_row2_col3 {\n",
              "  background-color: #045382;\n",
              "  color: #f1f1f1;\n",
              "}\n",
              "</style>\n",
              "<table id=\"T_fdd12\" class=\"dataframe\">\n",
              "  <thead>\n",
              "    <tr>\n",
              "      <th class=\"blank level0\" >&nbsp;</th>\n",
              "      <th id=\"T_fdd12_level0_col0\" class=\"col_heading level0 col0\" >기술</th>\n",
              "      <th id=\"T_fdd12_level0_col1\" class=\"col_heading level0 col1\" >기업</th>\n",
              "      <th id=\"T_fdd12_level0_col2\" class=\"col_heading level0 col2\" >다양</th>\n",
              "      <th id=\"T_fdd12_level0_col3\" class=\"col_heading level0 col3\" >데이터</th>\n",
              "      <th id=\"T_fdd12_level0_col4\" class=\"col_heading level0 col4\" >러닝</th>\n",
              "      <th id=\"T_fdd12_level0_col5\" class=\"col_heading level0 col5\" >머신</th>\n",
              "      <th id=\"T_fdd12_level0_col6\" class=\"col_heading level0 col6\" >모델링</th>\n",
              "      <th id=\"T_fdd12_level0_col7\" class=\"col_heading level0 col7\" >분석</th>\n",
              "      <th id=\"T_fdd12_level0_col8\" class=\"col_heading level0 col8\" >분야</th>\n",
              "      <th id=\"T_fdd12_level0_col9\" class=\"col_heading level0 col9\" >사회</th>\n",
              "      <th id=\"T_fdd12_level0_col10\" class=\"col_heading level0 col10\" >알고리즘</th>\n",
              "      <th id=\"T_fdd12_level0_col11\" class=\"col_heading level0 col11\" >예측</th>\n",
              "      <th id=\"T_fdd12_level0_col12\" class=\"col_heading level0 col12\" >인공지능</th>\n",
              "      <th id=\"T_fdd12_level0_col13\" class=\"col_heading level0 col13\" >인프라</th>\n",
              "      <th id=\"T_fdd12_level0_col14\" class=\"col_heading level0 col14\" >저장</th>\n",
              "      <th id=\"T_fdd12_level0_col15\" class=\"col_heading level0 col15\" >적용</th>\n",
              "      <th id=\"T_fdd12_level0_col16\" class=\"col_heading level0 col16\" >처리</th>\n",
              "      <th id=\"T_fdd12_level0_col17\" class=\"col_heading level0 col17\" >컴퓨팅</th>\n",
              "      <th id=\"T_fdd12_level0_col18\" class=\"col_heading level0 col18\" >클라우드</th>\n",
              "      <th id=\"T_fdd12_level0_col19\" class=\"col_heading level0 col19\" >혁명</th>\n",
              "      <th id=\"T_fdd12_level0_col20\" class=\"col_heading level0 col20\" >혁신</th>\n",
              "      <th id=\"T_fdd12_level0_col21\" class=\"col_heading level0 col21\" >효율</th>\n",
              "    </tr>\n",
              "  </thead>\n",
              "  <tbody>\n",
              "    <tr>\n",
              "      <th id=\"T_fdd12_level0_row0\" class=\"row_heading level0 row0\" >0</th>\n",
              "      <td id=\"T_fdd12_row0_col0\" class=\"data row0 col0\" >0.408248</td>\n",
              "      <td id=\"T_fdd12_row0_col1\" class=\"data row0 col1\" >0.000000</td>\n",
              "      <td id=\"T_fdd12_row0_col2\" class=\"data row0 col2\" >0.408248</td>\n",
              "      <td id=\"T_fdd12_row0_col3\" class=\"data row0 col3\" >0.000000</td>\n",
              "      <td id=\"T_fdd12_row0_col4\" class=\"data row0 col4\" >0.000000</td>\n",
              "      <td id=\"T_fdd12_row0_col5\" class=\"data row0 col5\" >0.000000</td>\n",
              "      <td id=\"T_fdd12_row0_col6\" class=\"data row0 col6\" >0.000000</td>\n",
              "      <td id=\"T_fdd12_row0_col7\" class=\"data row0 col7\" >0.000000</td>\n",
              "      <td id=\"T_fdd12_row0_col8\" class=\"data row0 col8\" >0.408248</td>\n",
              "      <td id=\"T_fdd12_row0_col9\" class=\"data row0 col9\" >0.408248</td>\n",
              "      <td id=\"T_fdd12_row0_col10\" class=\"data row0 col10\" >0.000000</td>\n",
              "      <td id=\"T_fdd12_row0_col11\" class=\"data row0 col11\" >0.000000</td>\n",
              "      <td id=\"T_fdd12_row0_col12\" class=\"data row0 col12\" >0.408248</td>\n",
              "      <td id=\"T_fdd12_row0_col13\" class=\"data row0 col13\" >0.000000</td>\n",
              "      <td id=\"T_fdd12_row0_col14\" class=\"data row0 col14\" >0.000000</td>\n",
              "      <td id=\"T_fdd12_row0_col15\" class=\"data row0 col15\" >0.408248</td>\n",
              "      <td id=\"T_fdd12_row0_col16\" class=\"data row0 col16\" >0.000000</td>\n",
              "      <td id=\"T_fdd12_row0_col17\" class=\"data row0 col17\" >0.000000</td>\n",
              "      <td id=\"T_fdd12_row0_col18\" class=\"data row0 col18\" >0.000000</td>\n",
              "      <td id=\"T_fdd12_row0_col19\" class=\"data row0 col19\" >0.000000</td>\n",
              "      <td id=\"T_fdd12_row0_col20\" class=\"data row0 col20\" >0.000000</td>\n",
              "      <td id=\"T_fdd12_row0_col21\" class=\"data row0 col21\" >0.000000</td>\n",
              "    </tr>\n",
              "    <tr>\n",
              "      <th id=\"T_fdd12_level0_row1\" class=\"row_heading level0 row1\" >1</th>\n",
              "      <td id=\"T_fdd12_row1_col0\" class=\"data row1 col0\" >0.000000</td>\n",
              "      <td id=\"T_fdd12_row1_col1\" class=\"data row1 col1\" >0.341426</td>\n",
              "      <td id=\"T_fdd12_row1_col2\" class=\"data row1 col2\" >0.000000</td>\n",
              "      <td id=\"T_fdd12_row1_col3\" class=\"data row1 col3\" >0.259663</td>\n",
              "      <td id=\"T_fdd12_row1_col4\" class=\"data row1 col4\" >0.000000</td>\n",
              "      <td id=\"T_fdd12_row1_col5\" class=\"data row1 col5\" >0.000000</td>\n",
              "      <td id=\"T_fdd12_row1_col6\" class=\"data row1 col6\" >0.000000</td>\n",
              "      <td id=\"T_fdd12_row1_col7\" class=\"data row1 col7\" >0.000000</td>\n",
              "      <td id=\"T_fdd12_row1_col8\" class=\"data row1 col8\" >0.000000</td>\n",
              "      <td id=\"T_fdd12_row1_col9\" class=\"data row1 col9\" >0.000000</td>\n",
              "      <td id=\"T_fdd12_row1_col10\" class=\"data row1 col10\" >0.000000</td>\n",
              "      <td id=\"T_fdd12_row1_col11\" class=\"data row1 col11\" >0.000000</td>\n",
              "      <td id=\"T_fdd12_row1_col12\" class=\"data row1 col12\" >0.000000</td>\n",
              "      <td id=\"T_fdd12_row1_col13\" class=\"data row1 col13\" >0.341426</td>\n",
              "      <td id=\"T_fdd12_row1_col14\" class=\"data row1 col14\" >0.341426</td>\n",
              "      <td id=\"T_fdd12_row1_col15\" class=\"data row1 col15\" >0.000000</td>\n",
              "      <td id=\"T_fdd12_row1_col16\" class=\"data row1 col16\" >0.341426</td>\n",
              "      <td id=\"T_fdd12_row1_col17\" class=\"data row1 col17\" >0.341426</td>\n",
              "      <td id=\"T_fdd12_row1_col18\" class=\"data row1 col18\" >0.341426</td>\n",
              "      <td id=\"T_fdd12_row1_col19\" class=\"data row1 col19\" >0.000000</td>\n",
              "      <td id=\"T_fdd12_row1_col20\" class=\"data row1 col20\" >0.341426</td>\n",
              "      <td id=\"T_fdd12_row1_col21\" class=\"data row1 col21\" >0.341426</td>\n",
              "    </tr>\n",
              "    <tr>\n",
              "      <th id=\"T_fdd12_level0_row2\" class=\"row_heading level0 row2\" >2</th>\n",
              "      <td id=\"T_fdd12_row2_col0\" class=\"data row2 col0\" >0.000000</td>\n",
              "      <td id=\"T_fdd12_row2_col1\" class=\"data row2 col1\" >0.000000</td>\n",
              "      <td id=\"T_fdd12_row2_col2\" class=\"data row2 col2\" >0.000000</td>\n",
              "      <td id=\"T_fdd12_row2_col3\" class=\"data row2 col3\" >0.233832</td>\n",
              "      <td id=\"T_fdd12_row2_col4\" class=\"data row2 col4\" >0.614922</td>\n",
              "      <td id=\"T_fdd12_row2_col5\" class=\"data row2 col5\" >0.307461</td>\n",
              "      <td id=\"T_fdd12_row2_col6\" class=\"data row2 col6\" >0.307461</td>\n",
              "      <td id=\"T_fdd12_row2_col7\" class=\"data row2 col7\" >0.307461</td>\n",
              "      <td id=\"T_fdd12_row2_col8\" class=\"data row2 col8\" >0.000000</td>\n",
              "      <td id=\"T_fdd12_row2_col9\" class=\"data row2 col9\" >0.000000</td>\n",
              "      <td id=\"T_fdd12_row2_col10\" class=\"data row2 col10\" >0.307461</td>\n",
              "      <td id=\"T_fdd12_row2_col11\" class=\"data row2 col11\" >0.307461</td>\n",
              "      <td id=\"T_fdd12_row2_col12\" class=\"data row2 col12\" >0.000000</td>\n",
              "      <td id=\"T_fdd12_row2_col13\" class=\"data row2 col13\" >0.000000</td>\n",
              "      <td id=\"T_fdd12_row2_col14\" class=\"data row2 col14\" >0.000000</td>\n",
              "      <td id=\"T_fdd12_row2_col15\" class=\"data row2 col15\" >0.000000</td>\n",
              "      <td id=\"T_fdd12_row2_col16\" class=\"data row2 col16\" >0.000000</td>\n",
              "      <td id=\"T_fdd12_row2_col17\" class=\"data row2 col17\" >0.000000</td>\n",
              "      <td id=\"T_fdd12_row2_col18\" class=\"data row2 col18\" >0.000000</td>\n",
              "      <td id=\"T_fdd12_row2_col19\" class=\"data row2 col19\" >0.307461</td>\n",
              "      <td id=\"T_fdd12_row2_col20\" class=\"data row2 col20\" >0.000000</td>\n",
              "      <td id=\"T_fdd12_row2_col21\" class=\"data row2 col21\" >0.000000</td>\n",
              "    </tr>\n",
              "  </tbody>\n",
              "</table>\n"
            ]
          },
          "metadata": {}
        }
      ]
    },
    {
      "cell_type": "code",
      "source": [
        "test_text = \"머신러닝과 딥러닝 알고리즘은 데이터 분석과 예측 모델링에 혁명을 일으키고 있다.\"\n",
        "morphs_noun = mecab.nouns(test_text)\n",
        "vocab = tfidfVectorizer.transform(morphs_noun)"
      ],
      "metadata": {
        "id": "bWP1LtgFXU1s"
      },
      "execution_count": null,
      "outputs": []
    },
    {
      "cell_type": "code",
      "source": [
        "morphs_noun"
      ],
      "metadata": {
        "colab": {
          "base_uri": "https://localhost:8080/"
        },
        "id": "bKaacdzzYDBO",
        "outputId": "2f158b07-517b-4b90-f675-0e0fb507b854"
      },
      "execution_count": null,
      "outputs": [
        {
          "output_type": "execute_result",
          "data": {
            "text/plain": [
              "['머신', '러닝', '딥', '러닝', '알고리즘', '데이터', '분석', '예측', '모델링', '혁명']"
            ]
          },
          "metadata": {},
          "execution_count": 68
        }
      ]
    },
    {
      "cell_type": "code",
      "source": [
        "vocab.toarray()"
      ],
      "metadata": {
        "colab": {
          "base_uri": "https://localhost:8080/"
        },
        "id": "OeQc3Q9vYIDE",
        "outputId": "ecf6f049-d3d4-48de-f04e-21c882a2da5e"
      },
      "execution_count": null,
      "outputs": [
        {
          "output_type": "execute_result",
          "data": {
            "text/plain": [
              "array([[0., 0., 0., 0., 0., 1., 0., 0., 0., 0., 0., 0., 0., 0., 0., 0.,\n",
              "        0., 0., 0., 0., 0., 0.],\n",
              "       [0., 0., 0., 0., 1., 0., 0., 0., 0., 0., 0., 0., 0., 0., 0., 0.,\n",
              "        0., 0., 0., 0., 0., 0.],\n",
              "       [0., 0., 0., 0., 0., 0., 0., 0., 0., 0., 0., 0., 0., 0., 0., 0.,\n",
              "        0., 0., 0., 0., 0., 0.],\n",
              "       [0., 0., 0., 0., 1., 0., 0., 0., 0., 0., 0., 0., 0., 0., 0., 0.,\n",
              "        0., 0., 0., 0., 0., 0.],\n",
              "       [0., 0., 0., 0., 0., 0., 0., 0., 0., 0., 1., 0., 0., 0., 0., 0.,\n",
              "        0., 0., 0., 0., 0., 0.],\n",
              "       [0., 0., 0., 1., 0., 0., 0., 0., 0., 0., 0., 0., 0., 0., 0., 0.,\n",
              "        0., 0., 0., 0., 0., 0.],\n",
              "       [0., 0., 0., 0., 0., 0., 0., 1., 0., 0., 0., 0., 0., 0., 0., 0.,\n",
              "        0., 0., 0., 0., 0., 0.],\n",
              "       [0., 0., 0., 0., 0., 0., 0., 0., 0., 0., 0., 1., 0., 0., 0., 0.,\n",
              "        0., 0., 0., 0., 0., 0.],\n",
              "       [0., 0., 0., 0., 0., 0., 1., 0., 0., 0., 0., 0., 0., 0., 0., 0.,\n",
              "        0., 0., 0., 0., 0., 0.],\n",
              "       [0., 0., 0., 0., 0., 0., 0., 0., 0., 0., 0., 0., 0., 0., 0., 0.,\n",
              "        0., 0., 0., 1., 0., 0.]])"
            ]
          },
          "metadata": {},
          "execution_count": 70
        }
      ]
    },
    {
      "cell_type": "code",
      "source": [],
      "metadata": {
        "id": "8eKeYG1jYnlL"
      },
      "execution_count": null,
      "outputs": []
    }
  ]
}